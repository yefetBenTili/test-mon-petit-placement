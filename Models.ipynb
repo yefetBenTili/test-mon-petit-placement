{
  "nbformat": 4,
  "nbformat_minor": 0,
  "metadata": {
    "colab": {
      "name": "Models.ipynb",
      "provenance": [],
      "collapsed_sections": []
    },
    "kernelspec": {
      "name": "python3",
      "display_name": "Python 3"
    }
  },
  "cells": [
    {
      "cell_type": "code",
      "metadata": {
        "id": "U_rZAzRAAIC4",
        "colab": {
          "base_uri": "https://localhost:8080/"
        },
        "outputId": "74a79061-c75e-4c95-e14d-a7c2976e48f7"
      },
      "source": [
        "from google.colab import drive\n",
        "drive.mount('/content/drive')"
      ],
      "execution_count": 1,
      "outputs": [
        {
          "output_type": "stream",
          "text": [
            "Mounted at /content/drive\n"
          ],
          "name": "stdout"
        }
      ]
    },
    {
      "cell_type": "code",
      "metadata": {
        "id": "-ODl63xUKU4O"
      },
      "source": [
        "from pandas.api.types import is_numeric_dtype\n",
        "import pandas as pd\n",
        "import seaborn as sns\n",
        "from sklearn.manifold import TSNE\n",
        "import numpy as np\n",
        "import plotly.express as px\n",
        "import plotly.graph_objects as go\n",
        "from sklearn.ensemble import RandomForestClassifier\n",
        "from sklearn.impute import KNNImputer\n",
        "from sklearn.model_selection import cross_val_score\n",
        "from sklearn.model_selection import RepeatedStratifiedKFold\n",
        "from sklearn.pipeline import Pipeline\n",
        "import matplotlib.pyplot as plt\n",
        "from sklearn.manifold import TSNE\n",
        "from sklearn.decomposition import PCA\n",
        "from sklearn.preprocessing import StandardScaler\n",
        "import random\n",
        "from plotly.subplots import make_subplots\n",
        "from sklearn.impute import SimpleImputer\n",
        "from sklearn.feature_selection import SelectKBest, mutual_info_classif, RFE\n",
        "from sklearn.cluster import KMeans\n",
        "from sklearn import metrics"
      ],
      "execution_count": 203,
      "outputs": []
    },
    {
      "cell_type": "code",
      "metadata": {
        "id": "Qti6w0hJUvz5"
      },
      "source": [
        "def seed_everything(n):\n",
        "  np.random.seed(n)\n",
        "  random.seed(n)"
      ],
      "execution_count": 52,
      "outputs": []
    },
    {
      "cell_type": "code",
      "metadata": {
        "id": "jOZ02p1flUe_"
      },
      "source": [
        "seed_everything(3)"
      ],
      "execution_count": 53,
      "outputs": []
    },
    {
      "cell_type": "code",
      "metadata": {
        "id": "W8bNQ8FQKZgK"
      },
      "source": [
        "df = pd.read_csv(\"/content/drive/MyDrive/Mon petit placement/cleaned_csv/data.csv\")"
      ],
      "execution_count": null,
      "outputs": []
    },
    {
      "cell_type": "code",
      "metadata": {
        "id": "q5tdHV-uoVkQ",
        "colab": {
          "base_uri": "https://localhost:8080/"
        },
        "outputId": "092dc877-4e24-4136-a9ac-89d62b7c259d"
      },
      "source": [
        "len(df) - len(df.drop_duplicates())"
      ],
      "execution_count": null,
      "outputs": [
        {
          "output_type": "execute_result",
          "data": {
            "text/plain": [
              "0"
            ]
          },
          "metadata": {
            "tags": []
          },
          "execution_count": 8
        }
      ]
    },
    {
      "cell_type": "code",
      "metadata": {
        "colab": {
          "base_uri": "https://localhost:8080/",
          "height": 517
        },
        "id": "vG9c3fN_KgZr",
        "outputId": "29805d47-3020-4669-9f6b-927ed6649d9d"
      },
      "source": [
        "na_dist = pd.DataFrame((df.isna().sum() /len(df)).sort_values(ascending=False), columns=[\"x\"]).reset_index().rename(columns = {'index': 'variable', 'x': 'pourcentage'})\n",
        "df.index.name = 'bar'\n",
        "fig = px.bar(na_dist, x='variable', y='pourcentage',\n",
        "             color='variable',\n",
        "             labels={'% des variables nulles'}, height=500)\n",
        "fig.show()"
      ],
      "execution_count": null,
      "outputs": [
        {
          "output_type": "display_data",
          "data": {
            "text/html": [
              "<html>\n",
              "<head><meta charset=\"utf-8\" /></head>\n",
              "<body>\n",
              "    <div>\n",
              "            <script src=\"https://cdnjs.cloudflare.com/ajax/libs/mathjax/2.7.5/MathJax.js?config=TeX-AMS-MML_SVG\"></script><script type=\"text/javascript\">if (window.MathJax) {MathJax.Hub.Config({SVG: {font: \"STIX-Web\"}});}</script>\n",
              "                <script type=\"text/javascript\">window.PlotlyConfig = {MathJaxConfig: 'local'};</script>\n",
              "        <script src=\"https://cdn.plot.ly/plotly-latest.min.js\"></script>    \n",
              "            <div id=\"3c062647-5df3-4301-8f1a-52f40f35cdc6\" class=\"plotly-graph-div\" style=\"height:500px; width:100%;\"></div>\n",
              "            <script type=\"text/javascript\">\n",
              "                \n",
              "                    window.PLOTLYENV=window.PLOTLYENV || {};\n",
              "                    \n",
              "                if (document.getElementById(\"3c062647-5df3-4301-8f1a-52f40f35cdc6\")) {\n",
              "                    Plotly.newPlot(\n",
              "                        '3c062647-5df3-4301-8f1a-52f40f35cdc6',\n",
              "                        [{\"alignmentgroup\": \"True\", \"hoverlabel\": {\"namelength\": 0}, \"hovertemplate\": \"variable=%{x}<br>pourcentage=%{y}\", \"legendgroup\": \"variable=Nombre filleuls\", \"marker\": {\"color\": \"#636efa\"}, \"name\": \"variable=Nombre filleuls\", \"offsetgroup\": \"variable=Nombre filleuls\", \"orientation\": \"v\", \"showlegend\": true, \"textposition\": \"auto\", \"type\": \"bar\", \"x\": [\"Nombre filleuls\"], \"xaxis\": \"x\", \"y\": [0.9999], \"yaxis\": \"y\"}, {\"alignmentgroup\": \"True\", \"hoverlabel\": {\"namelength\": 0}, \"hovertemplate\": \"variable=%{x}<br>pourcentage=%{y}\", \"legendgroup\": \"variable=Montant sous gestion\", \"marker\": {\"color\": \"#EF553B\"}, \"name\": \"variable=Montant sous gestion\", \"offsetgroup\": \"variable=Montant sous gestion\", \"orientation\": \"v\", \"showlegend\": true, \"textposition\": \"auto\", \"type\": \"bar\", \"x\": [\"Montant sous gestion\"], \"xaxis\": \"x\", \"y\": [0.9018], \"yaxis\": \"y\"}, {\"alignmentgroup\": \"True\", \"hoverlabel\": {\"namelength\": 0}, \"hovertemplate\": \"variable=%{x}<br>pourcentage=%{y}\", \"legendgroup\": \"variable=Date de signature du bulletin\", \"marker\": {\"color\": \"#00cc96\"}, \"name\": \"variable=Date de signature du bulletin\", \"offsetgroup\": \"variable=Date de signature du bulletin\", \"orientation\": \"v\", \"showlegend\": true, \"textposition\": \"auto\", \"type\": \"bar\", \"x\": [\"Date de signature du bulletin\"], \"xaxis\": \"x\", \"y\": [0.8952], \"yaxis\": \"y\"}, {\"alignmentgroup\": \"True\", \"hoverlabel\": {\"namelength\": 0}, \"hovertemplate\": \"variable=%{x}<br>pourcentage=%{y}\", \"legendgroup\": \"variable=Date de validation du conseil\", \"marker\": {\"color\": \"#ab63fa\"}, \"name\": \"variable=Date de validation du conseil\", \"offsetgroup\": \"variable=Date de validation du conseil\", \"orientation\": \"v\", \"showlegend\": true, \"textposition\": \"auto\", \"type\": \"bar\", \"x\": [\"Date de validation du conseil\"], \"xaxis\": \"x\", \"y\": [0.8567], \"yaxis\": \"y\"}, {\"alignmentgroup\": \"True\", \"hoverlabel\": {\"namelength\": 0}, \"hovertemplate\": \"variable=%{x}<br>pourcentage=%{y}\", \"legendgroup\": \"variable=Date de cr\\u00e9ation du conseil\", \"marker\": {\"color\": \"#FFA15A\"}, \"name\": \"variable=Date de cr\\u00e9ation du conseil\", \"offsetgroup\": \"variable=Date de cr\\u00e9ation du conseil\", \"orientation\": \"v\", \"showlegend\": true, \"textposition\": \"auto\", \"type\": \"bar\", \"x\": [\"Date de cr\\u00e9ation du conseil\"], \"xaxis\": \"x\", \"y\": [0.8229], \"yaxis\": \"y\"}, {\"alignmentgroup\": \"True\", \"hoverlabel\": {\"namelength\": 0}, \"hovertemplate\": \"variable=%{x}<br>pourcentage=%{y}\", \"legendgroup\": \"variable=CSP\", \"marker\": {\"color\": \"#19d3f3\"}, \"name\": \"variable=CSP\", \"offsetgroup\": \"variable=CSP\", \"orientation\": \"v\", \"showlegend\": true, \"textposition\": \"auto\", \"type\": \"bar\", \"x\": [\"CSP\"], \"xaxis\": \"x\", \"y\": [0.704], \"yaxis\": \"y\"}, {\"alignmentgroup\": \"True\", \"hoverlabel\": {\"namelength\": 0}, \"hovertemplate\": \"variable=%{x}<br>pourcentage=%{y}\", \"legendgroup\": \"variable=Date de naissance\", \"marker\": {\"color\": \"#FF6692\"}, \"name\": \"variable=Date de naissance\", \"offsetgroup\": \"variable=Date de naissance\", \"orientation\": \"v\", \"showlegend\": true, \"textposition\": \"auto\", \"type\": \"bar\", \"x\": [\"Date de naissance\"], \"xaxis\": \"x\", \"y\": [0.5508], \"yaxis\": \"y\"}, {\"alignmentgroup\": \"True\", \"hoverlabel\": {\"namelength\": 0}, \"hovertemplate\": \"variable=%{x}<br>pourcentage=%{y}\", \"legendgroup\": \"variable=Niveau capacit\\u00e9 de prise de risque\", \"marker\": {\"color\": \"#B6E880\"}, \"name\": \"variable=Niveau capacit\\u00e9 de prise de risque\", \"offsetgroup\": \"variable=Niveau capacit\\u00e9 de prise de risque\", \"orientation\": \"v\", \"showlegend\": true, \"textposition\": \"auto\", \"type\": \"bar\", \"x\": [\"Niveau capacit\\u00e9 de prise de risque\"], \"xaxis\": \"x\", \"y\": [0.4995], \"yaxis\": \"y\"}, {\"alignmentgroup\": \"True\", \"hoverlabel\": {\"namelength\": 0}, \"hovertemplate\": \"variable=%{x}<br>pourcentage=%{y}\", \"legendgroup\": \"variable=Genre\", \"marker\": {\"color\": \"#FF97FF\"}, \"name\": \"variable=Genre\", \"offsetgroup\": \"variable=Genre\", \"orientation\": \"v\", \"showlegend\": true, \"textposition\": \"auto\", \"type\": \"bar\", \"x\": [\"Genre\"], \"xaxis\": \"x\", \"y\": [0.4967], \"yaxis\": \"y\"}, {\"alignmentgroup\": \"True\", \"hoverlabel\": {\"namelength\": 0}, \"hovertemplate\": \"variable=%{x}<br>pourcentage=%{y}\", \"legendgroup\": \"variable=Statut marital\", \"marker\": {\"color\": \"#FECB52\"}, \"name\": \"variable=Statut marital\", \"offsetgroup\": \"variable=Statut marital\", \"orientation\": \"v\", \"showlegend\": true, \"textposition\": \"auto\", \"type\": \"bar\", \"x\": [\"Statut marital\"], \"xaxis\": \"x\", \"y\": [0.4677], \"yaxis\": \"y\"}, {\"alignmentgroup\": \"True\", \"hoverlabel\": {\"namelength\": 0}, \"hovertemplate\": \"variable=%{x}<br>pourcentage=%{y}\", \"legendgroup\": \"variable=Nombre d'enfants \\u00e0 charge\", \"marker\": {\"color\": \"#636efa\"}, \"name\": \"variable=Nombre d'enfants \\u00e0 charge\", \"offsetgroup\": \"variable=Nombre d'enfants \\u00e0 charge\", \"orientation\": \"v\", \"showlegend\": true, \"textposition\": \"auto\", \"type\": \"bar\", \"x\": [\"Nombre d'enfants \\u00e0 charge\"], \"xaxis\": \"x\", \"y\": [0.4677], \"yaxis\": \"y\"}, {\"alignmentgroup\": \"True\", \"hoverlabel\": {\"namelength\": 0}, \"hovertemplate\": \"variable=%{x}<br>pourcentage=%{y}\", \"legendgroup\": \"variable=Patrimoine total\", \"marker\": {\"color\": \"#EF553B\"}, \"name\": \"variable=Patrimoine total\", \"offsetgroup\": \"variable=Patrimoine total\", \"orientation\": \"v\", \"showlegend\": true, \"textposition\": \"auto\", \"type\": \"bar\", \"x\": [\"Patrimoine total\"], \"xaxis\": \"x\", \"y\": [0.4482], \"yaxis\": \"y\"}, {\"alignmentgroup\": \"True\", \"hoverlabel\": {\"namelength\": 0}, \"hovertemplate\": \"variable=%{x}<br>pourcentage=%{y}\", \"legendgroup\": \"variable=Revenus\", \"marker\": {\"color\": \"#00cc96\"}, \"name\": \"variable=Revenus\", \"offsetgroup\": \"variable=Revenus\", \"orientation\": \"v\", \"showlegend\": true, \"textposition\": \"auto\", \"type\": \"bar\", \"x\": [\"Revenus\"], \"xaxis\": \"x\", \"y\": [0.4421], \"yaxis\": \"y\"}, {\"alignmentgroup\": \"True\", \"hoverlabel\": {\"namelength\": 0}, \"hovertemplate\": \"variable=%{x}<br>pourcentage=%{y}\", \"legendgroup\": \"variable=Niveau app\\u00e9tence au risque\", \"marker\": {\"color\": \"#ab63fa\"}, \"name\": \"variable=Niveau app\\u00e9tence au risque\", \"offsetgroup\": \"variable=Niveau app\\u00e9tence au risque\", \"orientation\": \"v\", \"showlegend\": true, \"textposition\": \"auto\", \"type\": \"bar\", \"x\": [\"Niveau app\\u00e9tence au risque\"], \"xaxis\": \"x\", \"y\": [0.3956], \"yaxis\": \"y\"}, {\"alignmentgroup\": \"True\", \"hoverlabel\": {\"namelength\": 0}, \"hovertemplate\": \"variable=%{x}<br>pourcentage=%{y}\", \"legendgroup\": \"variable=Niveau exp\\u00e9rience financi\\u00e8re\", \"marker\": {\"color\": \"#FFA15A\"}, \"name\": \"variable=Niveau exp\\u00e9rience financi\\u00e8re\", \"offsetgroup\": \"variable=Niveau exp\\u00e9rience financi\\u00e8re\", \"orientation\": \"v\", \"showlegend\": true, \"textposition\": \"auto\", \"type\": \"bar\", \"x\": [\"Niveau exp\\u00e9rience financi\\u00e8re\"], \"xaxis\": \"x\", \"y\": [0.3722], \"yaxis\": \"y\"}, {\"alignmentgroup\": \"True\", \"hoverlabel\": {\"namelength\": 0}, \"hovertemplate\": \"variable=%{x}<br>pourcentage=%{y}\", \"legendgroup\": \"variable=Abondement mensuel\", \"marker\": {\"color\": \"#19d3f3\"}, \"name\": \"variable=Abondement mensuel\", \"offsetgroup\": \"variable=Abondement mensuel\", \"orientation\": \"v\", \"showlegend\": true, \"textposition\": \"auto\", \"type\": \"bar\", \"x\": [\"Abondement mensuel\"], \"xaxis\": \"x\", \"y\": [0.3694], \"yaxis\": \"y\"}, {\"alignmentgroup\": \"True\", \"hoverlabel\": {\"namelength\": 0}, \"hovertemplate\": \"variable=%{x}<br>pourcentage=%{y}\", \"legendgroup\": \"variable=Montant initial\", \"marker\": {\"color\": \"#FF6692\"}, \"name\": \"variable=Montant initial\", \"offsetgroup\": \"variable=Montant initial\", \"orientation\": \"v\", \"showlegend\": true, \"textposition\": \"auto\", \"type\": \"bar\", \"x\": [\"Montant initial\"], \"xaxis\": \"x\", \"y\": [0.3671], \"yaxis\": \"y\"}, {\"alignmentgroup\": \"True\", \"hoverlabel\": {\"namelength\": 0}, \"hovertemplate\": \"variable=%{x}<br>pourcentage=%{y}\", \"legendgroup\": \"variable=Dur\\u00e9e\", \"marker\": {\"color\": \"#B6E880\"}, \"name\": \"variable=Dur\\u00e9e\", \"offsetgroup\": \"variable=Dur\\u00e9e\", \"orientation\": \"v\", \"showlegend\": true, \"textposition\": \"auto\", \"type\": \"bar\", \"x\": [\"Dur\\u00e9e\"], \"xaxis\": \"x\", \"y\": [0.3671], \"yaxis\": \"y\"}, {\"alignmentgroup\": \"True\", \"hoverlabel\": {\"namelength\": 0}, \"hovertemplate\": \"variable=%{x}<br>pourcentage=%{y}\", \"legendgroup\": \"variable=Date de validation du mail\", \"marker\": {\"color\": \"#FF97FF\"}, \"name\": \"variable=Date de validation du mail\", \"offsetgroup\": \"variable=Date de validation du mail\", \"orientation\": \"v\", \"showlegend\": true, \"textposition\": \"auto\", \"type\": \"bar\", \"x\": [\"Date de validation du mail\"], \"xaxis\": \"x\", \"y\": [0.103], \"yaxis\": \"y\"}, {\"alignmentgroup\": \"True\", \"hoverlabel\": {\"namelength\": 0}, \"hovertemplate\": \"variable=%{x}<br>pourcentage=%{y}\", \"legendgroup\": \"variable=Type utilisateur\", \"marker\": {\"color\": \"#FECB52\"}, \"name\": \"variable=Type utilisateur\", \"offsetgroup\": \"variable=Type utilisateur\", \"orientation\": \"v\", \"showlegend\": true, \"textposition\": \"auto\", \"type\": \"bar\", \"x\": [\"Type utilisateur\"], \"xaxis\": \"x\", \"y\": [0.0], \"yaxis\": \"y\"}, {\"alignmentgroup\": \"True\", \"hoverlabel\": {\"namelength\": 0}, \"hovertemplate\": \"variable=%{x}<br>pourcentage=%{y}\", \"legendgroup\": \"variable=Objectifs d'investissement\", \"marker\": {\"color\": \"#636efa\"}, \"name\": \"variable=Objectifs d'investissement\", \"offsetgroup\": \"variable=Objectifs d'investissement\", \"orientation\": \"v\", \"showlegend\": true, \"textposition\": \"auto\", \"type\": \"bar\", \"x\": [\"Objectifs d'investissement\"], \"xaxis\": \"x\", \"y\": [0.0], \"yaxis\": \"y\"}],\n",
              "                        {\"barmode\": \"relative\", \"height\": 500, \"legend\": {\"tracegroupgap\": 0}, \"margin\": {\"t\": 60}, \"template\": {\"data\": {\"bar\": [{\"error_x\": {\"color\": \"#2a3f5f\"}, \"error_y\": {\"color\": \"#2a3f5f\"}, \"marker\": {\"line\": {\"color\": \"#E5ECF6\", \"width\": 0.5}}, \"type\": \"bar\"}], \"barpolar\": [{\"marker\": {\"line\": {\"color\": \"#E5ECF6\", \"width\": 0.5}}, \"type\": \"barpolar\"}], \"carpet\": [{\"aaxis\": {\"endlinecolor\": \"#2a3f5f\", \"gridcolor\": \"white\", \"linecolor\": \"white\", \"minorgridcolor\": \"white\", \"startlinecolor\": \"#2a3f5f\"}, \"baxis\": {\"endlinecolor\": \"#2a3f5f\", \"gridcolor\": \"white\", \"linecolor\": \"white\", \"minorgridcolor\": \"white\", \"startlinecolor\": \"#2a3f5f\"}, \"type\": \"carpet\"}], \"choropleth\": [{\"colorbar\": {\"outlinewidth\": 0, \"ticks\": \"\"}, \"type\": \"choropleth\"}], \"contour\": [{\"colorbar\": {\"outlinewidth\": 0, \"ticks\": \"\"}, \"colorscale\": [[0.0, \"#0d0887\"], [0.1111111111111111, \"#46039f\"], [0.2222222222222222, \"#7201a8\"], [0.3333333333333333, \"#9c179e\"], [0.4444444444444444, \"#bd3786\"], [0.5555555555555556, \"#d8576b\"], [0.6666666666666666, \"#ed7953\"], [0.7777777777777778, \"#fb9f3a\"], [0.8888888888888888, \"#fdca26\"], [1.0, \"#f0f921\"]], \"type\": \"contour\"}], \"contourcarpet\": [{\"colorbar\": {\"outlinewidth\": 0, \"ticks\": \"\"}, \"type\": \"contourcarpet\"}], \"heatmap\": [{\"colorbar\": {\"outlinewidth\": 0, \"ticks\": \"\"}, \"colorscale\": [[0.0, \"#0d0887\"], [0.1111111111111111, \"#46039f\"], [0.2222222222222222, \"#7201a8\"], [0.3333333333333333, \"#9c179e\"], [0.4444444444444444, \"#bd3786\"], [0.5555555555555556, \"#d8576b\"], [0.6666666666666666, \"#ed7953\"], [0.7777777777777778, \"#fb9f3a\"], [0.8888888888888888, \"#fdca26\"], [1.0, \"#f0f921\"]], \"type\": \"heatmap\"}], \"heatmapgl\": [{\"colorbar\": {\"outlinewidth\": 0, \"ticks\": \"\"}, \"colorscale\": [[0.0, \"#0d0887\"], [0.1111111111111111, \"#46039f\"], [0.2222222222222222, \"#7201a8\"], [0.3333333333333333, \"#9c179e\"], [0.4444444444444444, \"#bd3786\"], [0.5555555555555556, \"#d8576b\"], [0.6666666666666666, \"#ed7953\"], [0.7777777777777778, \"#fb9f3a\"], [0.8888888888888888, \"#fdca26\"], [1.0, \"#f0f921\"]], \"type\": \"heatmapgl\"}], \"histogram\": [{\"marker\": {\"colorbar\": {\"outlinewidth\": 0, \"ticks\": \"\"}}, \"type\": \"histogram\"}], \"histogram2d\": [{\"colorbar\": {\"outlinewidth\": 0, \"ticks\": \"\"}, \"colorscale\": [[0.0, \"#0d0887\"], [0.1111111111111111, \"#46039f\"], [0.2222222222222222, \"#7201a8\"], [0.3333333333333333, \"#9c179e\"], [0.4444444444444444, \"#bd3786\"], [0.5555555555555556, \"#d8576b\"], [0.6666666666666666, \"#ed7953\"], [0.7777777777777778, \"#fb9f3a\"], [0.8888888888888888, \"#fdca26\"], [1.0, \"#f0f921\"]], \"type\": \"histogram2d\"}], \"histogram2dcontour\": [{\"colorbar\": {\"outlinewidth\": 0, \"ticks\": \"\"}, \"colorscale\": [[0.0, \"#0d0887\"], [0.1111111111111111, \"#46039f\"], [0.2222222222222222, \"#7201a8\"], [0.3333333333333333, \"#9c179e\"], [0.4444444444444444, \"#bd3786\"], [0.5555555555555556, \"#d8576b\"], [0.6666666666666666, \"#ed7953\"], [0.7777777777777778, \"#fb9f3a\"], [0.8888888888888888, \"#fdca26\"], [1.0, \"#f0f921\"]], \"type\": \"histogram2dcontour\"}], \"mesh3d\": [{\"colorbar\": {\"outlinewidth\": 0, \"ticks\": \"\"}, \"type\": \"mesh3d\"}], \"parcoords\": [{\"line\": {\"colorbar\": {\"outlinewidth\": 0, \"ticks\": \"\"}}, \"type\": \"parcoords\"}], \"pie\": [{\"automargin\": true, \"type\": \"pie\"}], \"scatter\": [{\"marker\": {\"colorbar\": {\"outlinewidth\": 0, \"ticks\": \"\"}}, \"type\": \"scatter\"}], \"scatter3d\": [{\"line\": {\"colorbar\": {\"outlinewidth\": 0, \"ticks\": \"\"}}, \"marker\": {\"colorbar\": {\"outlinewidth\": 0, \"ticks\": \"\"}}, \"type\": \"scatter3d\"}], \"scattercarpet\": [{\"marker\": {\"colorbar\": {\"outlinewidth\": 0, \"ticks\": \"\"}}, \"type\": \"scattercarpet\"}], \"scattergeo\": [{\"marker\": {\"colorbar\": {\"outlinewidth\": 0, \"ticks\": \"\"}}, \"type\": \"scattergeo\"}], \"scattergl\": [{\"marker\": {\"colorbar\": {\"outlinewidth\": 0, \"ticks\": \"\"}}, \"type\": \"scattergl\"}], \"scattermapbox\": [{\"marker\": {\"colorbar\": {\"outlinewidth\": 0, \"ticks\": \"\"}}, \"type\": \"scattermapbox\"}], \"scatterpolar\": [{\"marker\": {\"colorbar\": {\"outlinewidth\": 0, \"ticks\": \"\"}}, \"type\": \"scatterpolar\"}], \"scatterpolargl\": [{\"marker\": {\"colorbar\": {\"outlinewidth\": 0, \"ticks\": \"\"}}, \"type\": \"scatterpolargl\"}], \"scatterternary\": [{\"marker\": {\"colorbar\": {\"outlinewidth\": 0, \"ticks\": \"\"}}, \"type\": \"scatterternary\"}], \"surface\": [{\"colorbar\": {\"outlinewidth\": 0, \"ticks\": \"\"}, \"colorscale\": [[0.0, \"#0d0887\"], [0.1111111111111111, \"#46039f\"], [0.2222222222222222, \"#7201a8\"], [0.3333333333333333, \"#9c179e\"], [0.4444444444444444, \"#bd3786\"], [0.5555555555555556, \"#d8576b\"], [0.6666666666666666, \"#ed7953\"], [0.7777777777777778, \"#fb9f3a\"], [0.8888888888888888, \"#fdca26\"], [1.0, \"#f0f921\"]], \"type\": \"surface\"}], \"table\": [{\"cells\": {\"fill\": {\"color\": \"#EBF0F8\"}, \"line\": {\"color\": \"white\"}}, \"header\": {\"fill\": {\"color\": \"#C8D4E3\"}, \"line\": {\"color\": \"white\"}}, \"type\": \"table\"}]}, \"layout\": {\"annotationdefaults\": {\"arrowcolor\": \"#2a3f5f\", \"arrowhead\": 0, \"arrowwidth\": 1}, \"coloraxis\": {\"colorbar\": {\"outlinewidth\": 0, \"ticks\": \"\"}}, \"colorscale\": {\"diverging\": [[0, \"#8e0152\"], [0.1, \"#c51b7d\"], [0.2, \"#de77ae\"], [0.3, \"#f1b6da\"], [0.4, \"#fde0ef\"], [0.5, \"#f7f7f7\"], [0.6, \"#e6f5d0\"], [0.7, \"#b8e186\"], [0.8, \"#7fbc41\"], [0.9, \"#4d9221\"], [1, \"#276419\"]], \"sequential\": [[0.0, \"#0d0887\"], [0.1111111111111111, \"#46039f\"], [0.2222222222222222, \"#7201a8\"], [0.3333333333333333, \"#9c179e\"], [0.4444444444444444, \"#bd3786\"], [0.5555555555555556, \"#d8576b\"], [0.6666666666666666, \"#ed7953\"], [0.7777777777777778, \"#fb9f3a\"], [0.8888888888888888, \"#fdca26\"], [1.0, \"#f0f921\"]], \"sequentialminus\": [[0.0, \"#0d0887\"], [0.1111111111111111, \"#46039f\"], [0.2222222222222222, \"#7201a8\"], [0.3333333333333333, \"#9c179e\"], [0.4444444444444444, \"#bd3786\"], [0.5555555555555556, \"#d8576b\"], [0.6666666666666666, \"#ed7953\"], [0.7777777777777778, \"#fb9f3a\"], [0.8888888888888888, \"#fdca26\"], [1.0, \"#f0f921\"]]}, \"colorway\": [\"#636efa\", \"#EF553B\", \"#00cc96\", \"#ab63fa\", \"#FFA15A\", \"#19d3f3\", \"#FF6692\", \"#B6E880\", \"#FF97FF\", \"#FECB52\"], \"font\": {\"color\": \"#2a3f5f\"}, \"geo\": {\"bgcolor\": \"white\", \"lakecolor\": \"white\", \"landcolor\": \"#E5ECF6\", \"showlakes\": true, \"showland\": true, \"subunitcolor\": \"white\"}, \"hoverlabel\": {\"align\": \"left\"}, \"hovermode\": \"closest\", \"mapbox\": {\"style\": \"light\"}, \"paper_bgcolor\": \"white\", \"plot_bgcolor\": \"#E5ECF6\", \"polar\": {\"angularaxis\": {\"gridcolor\": \"white\", \"linecolor\": \"white\", \"ticks\": \"\"}, \"bgcolor\": \"#E5ECF6\", \"radialaxis\": {\"gridcolor\": \"white\", \"linecolor\": \"white\", \"ticks\": \"\"}}, \"scene\": {\"xaxis\": {\"backgroundcolor\": \"#E5ECF6\", \"gridcolor\": \"white\", \"gridwidth\": 2, \"linecolor\": \"white\", \"showbackground\": true, \"ticks\": \"\", \"zerolinecolor\": \"white\"}, \"yaxis\": {\"backgroundcolor\": \"#E5ECF6\", \"gridcolor\": \"white\", \"gridwidth\": 2, \"linecolor\": \"white\", \"showbackground\": true, \"ticks\": \"\", \"zerolinecolor\": \"white\"}, \"zaxis\": {\"backgroundcolor\": \"#E5ECF6\", \"gridcolor\": \"white\", \"gridwidth\": 2, \"linecolor\": \"white\", \"showbackground\": true, \"ticks\": \"\", \"zerolinecolor\": \"white\"}}, \"shapedefaults\": {\"line\": {\"color\": \"#2a3f5f\"}}, \"ternary\": {\"aaxis\": {\"gridcolor\": \"white\", \"linecolor\": \"white\", \"ticks\": \"\"}, \"baxis\": {\"gridcolor\": \"white\", \"linecolor\": \"white\", \"ticks\": \"\"}, \"bgcolor\": \"#E5ECF6\", \"caxis\": {\"gridcolor\": \"white\", \"linecolor\": \"white\", \"ticks\": \"\"}}, \"title\": {\"x\": 0.05}, \"xaxis\": {\"automargin\": true, \"gridcolor\": \"white\", \"linecolor\": \"white\", \"ticks\": \"\", \"title\": {\"standoff\": 15}, \"zerolinecolor\": \"white\", \"zerolinewidth\": 2}, \"yaxis\": {\"automargin\": true, \"gridcolor\": \"white\", \"linecolor\": \"white\", \"ticks\": \"\", \"title\": {\"standoff\": 15}, \"zerolinecolor\": \"white\", \"zerolinewidth\": 2}}}, \"xaxis\": {\"anchor\": \"y\", \"categoryarray\": [\"Nombre filleuls\", \"Montant sous gestion\", \"Date de signature du bulletin\", \"Date de validation du conseil\", \"Date de cr\\u00e9ation du conseil\", \"CSP\", \"Date de naissance\", \"Niveau capacit\\u00e9 de prise de risque\", \"Genre\", \"Statut marital\", \"Nombre d'enfants \\u00e0 charge\", \"Patrimoine total\", \"Revenus\", \"Niveau app\\u00e9tence au risque\", \"Niveau exp\\u00e9rience financi\\u00e8re\", \"Abondement mensuel\", \"Montant initial\", \"Dur\\u00e9e\", \"Date de validation du mail\", \"Type utilisateur\", \"Objectifs d'investissement\"], \"categoryorder\": \"array\", \"domain\": [0.0, 1.0], \"title\": {\"text\": \"variable\"}}, \"yaxis\": {\"anchor\": \"x\", \"domain\": [0.0, 1.0], \"title\": {\"text\": \"pourcentage\"}}},\n",
              "                        {\"responsive\": true}\n",
              "                    ).then(function(){\n",
              "                            \n",
              "var gd = document.getElementById('3c062647-5df3-4301-8f1a-52f40f35cdc6');\n",
              "var x = new MutationObserver(function (mutations, observer) {{\n",
              "        var display = window.getComputedStyle(gd).display;\n",
              "        if (!display || display === 'none') {{\n",
              "            console.log([gd, 'removed!']);\n",
              "            Plotly.purge(gd);\n",
              "            observer.disconnect();\n",
              "        }}\n",
              "}});\n",
              "\n",
              "// Listen for the removal of the full notebook cells\n",
              "var notebookContainer = gd.closest('#notebook-container');\n",
              "if (notebookContainer) {{\n",
              "    x.observe(notebookContainer, {childList: true});\n",
              "}}\n",
              "\n",
              "// Listen for the clearing of the current output cell\n",
              "var outputEl = gd.closest('.output');\n",
              "if (outputEl) {{\n",
              "    x.observe(outputEl, {childList: true});\n",
              "}}\n",
              "\n",
              "                        })\n",
              "                };\n",
              "                \n",
              "            </script>\n",
              "        </div>\n",
              "</body>\n",
              "</html>"
            ]
          },
          "metadata": {
            "tags": []
          }
        }
      ]
    },
    {
      "cell_type": "code",
      "metadata": {
        "id": "ydueZxCRK-gb"
      },
      "source": [
        "del_columns =[\"Nombre filleuls\",\"Montant sous gestion\",\"Date de signature du bulletin\",\"Date de validation du conseil\",\"Date de création du conseil\",\"CSP\",\"Objectifs d'investissement\",\"Date de naissance\",\"Date de validation du mail\",\"Genre\"]"
      ],
      "execution_count": null,
      "outputs": []
    },
    {
      "cell_type": "code",
      "metadata": {
        "id": "JYZXbnD9UsF1"
      },
      "source": [
        "df.drop(columns=del_columns,axis=1,inplace=True)"
      ],
      "execution_count": null,
      "outputs": []
    },
    {
      "cell_type": "code",
      "metadata": {
        "id": "vmPKTLfHALOE"
      },
      "source": [
        "numeric_features = df.select_dtypes(include=['int64', 'float64']).columns\n",
        "categorical_features = df.select_dtypes(include=['object']).columns"
      ],
      "execution_count": null,
      "outputs": []
    },
    {
      "cell_type": "markdown",
      "metadata": {
        "id": "e_vuB4kuU7Ek"
      },
      "source": [
        "#Outlier detection"
      ]
    },
    {
      "cell_type": "markdown",
      "metadata": {
        "id": "NimTK4LboVEF"
      },
      "source": [
        "![](https://cdn.kastatic.org/googleusercontent/8bSRVB7q_zWxFliXcZVQSBDtip3sMGRkkHGLVzvflS3goQZZhmhrSD9u1cSduXh-9DJ9sSjCqVyozwQ_FwJNkptC)"
      ]
    },
    {
      "cell_type": "code",
      "metadata": {
        "id": "2SPTUAgMLsU9"
      },
      "source": [
        "def outlierRemoval(df):\n",
        "  for col in df.columns:\n",
        "    Q1 = df[col].quantile(0.25)\n",
        "    Q3 = df[col].quantile(0.75)\n",
        "    IQR = Q3 - Q1\n",
        "    min_clip = Q1 - (1.5*IQR)\n",
        "    max_clip = Q3 + (1.5*IQR)\n",
        "    df[col].clip(min_clip,max_clip,inplace = True)\n",
        "  return df"
      ],
      "execution_count": null,
      "outputs": []
    },
    {
      "cell_type": "code",
      "metadata": {
        "colab": {
          "base_uri": "https://localhost:8080/"
        },
        "id": "ZDx4JSLHAYyH",
        "outputId": "dea74c90-7b28-450a-86c6-f0dc07603471"
      },
      "source": [
        "no_ouliers = outlierRemoval(df[numeric_features])"
      ],
      "execution_count": null,
      "outputs": [
        {
          "output_type": "stream",
          "text": [
            "/usr/local/lib/python3.6/dist-packages/pandas/core/generic.py:7352: SettingWithCopyWarning:\n",
            "\n",
            "\n",
            "A value is trying to be set on a copy of a slice from a DataFrame\n",
            "\n",
            "See the caveats in the documentation: https://pandas.pydata.org/pandas-docs/stable/user_guide/indexing.html#returning-a-view-versus-a-copy\n",
            "\n"
          ],
          "name": "stderr"
        }
      ]
    },
    {
      "cell_type": "code",
      "metadata": {
        "colab": {
          "base_uri": "https://localhost:8080/",
          "height": 734
        },
        "id": "G47mi4SjLz8B",
        "outputId": "1e0676d4-f98e-428c-cc34-73d03ab0750b"
      },
      "source": [
        "fig, axes = plt.subplots(2,1,figsize=(15,12))\n",
        "df[numeric_features].boxplot(ax=axes[0]);\n",
        "axes[0].set_title(\"Box plot avant outlier trim\")\n",
        "no_ouliers.boxplot(ax=axes[1])\n",
        "axes[1].set_title(\"Box plot apres outlier trim\")"
      ],
      "execution_count": null,
      "outputs": [
        {
          "output_type": "execute_result",
          "data": {
            "text/plain": [
              "Text(0.5, 1.0, 'Box plot apres outlier trim')"
            ]
          },
          "metadata": {
            "tags": []
          },
          "execution_count": 26
        },
        {
          "output_type": "display_data",
          "data": {
            "image/png": "[encoded data removed]",
            "text/plain": [
              "<Figure size 1080x864 with 2 Axes>"
            ]
          },
          "metadata": {
            "tags": [],
            "needs_background": "light"
          }
        }
      ]
    },
    {
      "cell_type": "code",
      "metadata": {
        "id": "2gOORAriWg2Z"
      },
      "source": [
        "def plot_set_boxplot(plot_list, title):\n",
        "    fig = make_subplots(\n",
        "        rows=3, \n",
        "        cols=3\n",
        "    )\n",
        "    \n",
        "    traces = [\n",
        "        go.Box(\n",
        "            y=df[col], \n",
        "            \n",
        "            name=col\n",
        "        ) for col in plot_list\n",
        "    ]\n",
        "\n",
        "    for i in range(len(traces)):\n",
        "        fig.append_trace(\n",
        "            traces[i], \n",
        "            (i // 3) + 1, \n",
        "            (i % 3) + 1\n",
        "        )\n",
        "\n",
        "    fig.update_layout(\n",
        "        title_text=title,\n",
        "        height=1000,\n",
        "       width=1150\n",
        "    )\n",
        "    fig.show()"
      ],
      "execution_count": null,
      "outputs": []
    },
    {
      "cell_type": "markdown",
      "metadata": {
        "id": "gLhmwAJdXgjl"
      },
      "source": [
        "##Data Imputation"
      ]
    },
    {
      "cell_type": "markdown",
      "metadata": {
        "id": "4YuK6gX4XtkA"
      },
      "source": [
        "![](https://miro.medium.com/max/3832/1*-ieGos_q5jzLsEy-8uRC6Q.png)\n"
      ]
    },
    {
      "cell_type": "code",
      "metadata": {
        "id": "Nvn5VX9BbjyS"
      },
      "source": [
        "# encode type d'utilisateur\n",
        "df[\"Type utilisateur\"] = df[\"Type utilisateur\"].map({'Prospect': 0, 'Client': 1})"
      ],
      "execution_count": null,
      "outputs": []
    },
    {
      "cell_type": "code",
      "metadata": {
        "colab": {
          "base_uri": "https://localhost:8080/"
        },
        "id": "CcjvMk2jX27u",
        "outputId": "4f971de1-94f9-4827-fd90-b54b5f986645"
      },
      "source": [
        "#remove Type utilistauer\n",
        "categorical_features.delete(0)"
      ],
      "execution_count": null,
      "outputs": [
        {
          "output_type": "execute_result",
          "data": {
            "text/plain": [
              "Index(['Niveau expérience financière', 'Niveau appétence au risque',\n",
              "       'Niveau capacité de prise de risque', 'Statut marital'],\n",
              "      dtype='object')"
            ]
          },
          "metadata": {
            "tags": []
          },
          "execution_count": 44
        }
      ]
    },
    {
      "cell_type": "code",
      "metadata": {
        "id": "voC1Xlu-K6nF"
      },
      "source": [
        "def impute_categorical_features(df):\n",
        "    # Impute categorical features with most_frequent value\n",
        "  for col in categorical_features:\n",
        "    imputer = SimpleImputer(strategy=\"most_frequent\")\n",
        "    df[col] = pd.DataFrame(imputer.fit_transform(df[col].values.reshape(-1,1)))\n",
        "  return df"
      ],
      "execution_count": null,
      "outputs": []
    },
    {
      "cell_type": "code",
      "metadata": {
        "id": "pgX0Sk7IbdTd"
      },
      "source": [
        "df[categorical_features] = impute_categorical_features(df[categorical_features])"
      ],
      "execution_count": null,
      "outputs": []
    },
    {
      "cell_type": "code",
      "metadata": {
        "colab": {
          "base_uri": "https://localhost:8080/"
        },
        "id": "WBy0X-s1cpHT",
        "outputId": "15242453-c485-438d-e5f1-c064dcec94cc"
      },
      "source": [
        "df[categorical_features].isna().sum()"
      ],
      "execution_count": null,
      "outputs": [
        {
          "output_type": "execute_result",
          "data": {
            "text/plain": [
              "Type utilisateur                      0\n",
              "Niveau expérience financière          0\n",
              "Niveau appétence au risque            0\n",
              "Niveau capacité de prise de risque    0\n",
              "Statut marital                        0\n",
              "dtype: int64"
            ]
          },
          "metadata": {
            "tags": []
          },
          "execution_count": 61
        }
      ]
    },
    {
      "cell_type": "code",
      "metadata": {
        "colab": {
          "base_uri": "https://localhost:8080/"
        },
        "id": "6_ZKb-H7g0Ix",
        "outputId": "3be34b3b-c58f-4afc-ad5f-8de543f651f3"
      },
      "source": [
        "categorical_features"
      ],
      "execution_count": null,
      "outputs": [
        {
          "output_type": "execute_result",
          "data": {
            "text/plain": [
              "Index(['Type utilisateur', 'Niveau expérience financière',\n",
              "       'Niveau appétence au risque', 'Niveau capacité de prise de risque',\n",
              "       'Statut marital'],\n",
              "      dtype='object')"
            ]
          },
          "metadata": {
            "tags": []
          },
          "execution_count": 74
        }
      ]
    },
    {
      "cell_type": "code",
      "metadata": {
        "id": "be3kP0upNC9F"
      },
      "source": [
        "#knn imputation\n",
        "X = df[\"Type utilisateur\"]\n",
        "y = df[numeric_features[1:]]"
      ],
      "execution_count": null,
      "outputs": []
    },
    {
      "cell_type": "code",
      "metadata": {
        "colab": {
          "base_uri": "https://localhost:8080/"
        },
        "id": "LktT7D42iZ9N",
        "outputId": "7d9aa0e0-b523-443f-8f30-60551d4b5c59"
      },
      "source": [
        "X.values"
      ],
      "execution_count": null,
      "outputs": [
        {
          "output_type": "execute_result",
          "data": {
            "text/plain": [
              "array([0, 0, 0, ..., 0, 0, 0])"
            ]
          },
          "metadata": {
            "tags": []
          },
          "execution_count": 94
        }
      ]
    },
    {
      "cell_type": "code",
      "metadata": {
        "id": "_zqu-qVn09Tj"
      },
      "source": [
        "numeric_features = list(df.select_dtypes(include=['int64', 'float64']).columns.values)\n",
        "numeric_features.remove(\"Type utilisateur\")\n",
        "\n",
        "X = df[numeric_features]\n",
        "y = df[\"Type utilisateur\"]\n",
        "\n",
        "from numpy import mean\n",
        "from numpy import std\n",
        "strategies = [str(i) for i in [1,3,5,7,9,11,13,18,20,30]]\n",
        "results = []\n",
        "for s in strategies:\n",
        "\t# create the modeling pipeline\n",
        "\tpipeline = Pipeline(steps=[('i', KNNImputer(n_neighbors=int(s))), ('m', RandomForestClassifier())])\n",
        "\t# evaluate the model\n",
        "\tcv = RepeatedStratifiedKFold(n_splits=10, n_repeats=3, random_state=1)\n",
        "\tscores = cross_val_score(pipeline, X, y, scoring='balanced_accuracy', cv=cv, n_jobs=-1)\n",
        "\t# store results\n",
        "\tresults.append(scores)\n",
        "\tprint('>%s %.3f (%.3f)' % (s, mean(scores), std(scores)))\n",
        "# plot model performance for comparison\n",
        "plt.boxplot(results, labels=strategies, showmeans=True)\n",
        "plt.show()"
      ],
      "execution_count": null,
      "outputs": []
    },
    {
      "cell_type": "code",
      "metadata": {
        "id": "JPDzhhjlOODv"
      },
      "source": [
        "# imputer numeric\n",
        "imputer =KNNImputer(n_neighbors=3)\n",
        "df[numeric_features] = pd.DataFrame(imputer.fit_transform(df[numeric_features]),columns=numeric_features)\n",
        "\n",
        "\t\t"
      ],
      "execution_count": null,
      "outputs": []
    },
    {
      "cell_type": "code",
      "metadata": {
        "id": "HMCsi086S-UE"
      },
      "source": [
        "# discritser les colonnes discrétes\n",
        "df[\"Nombre d'enfants à charge\"] = df[\"Nombre d'enfants à charge\"].astype(int)\n",
        "df[\"Durée\"] = df[\"Durée\"].astype(int)"
      ],
      "execution_count": 166,
      "outputs": []
    },
    {
      "cell_type": "code",
      "metadata": {
        "colab": {
          "base_uri": "https://localhost:8080/"
        },
        "id": "mv_cR6z4kXVt",
        "outputId": "42ff6740-207a-4f90-8c69-4cbe783b4a76"
      },
      "source": [
        "df.isna().sum()"
      ],
      "execution_count": null,
      "outputs": [
        {
          "output_type": "execute_result",
          "data": {
            "text/plain": [
              "Unnamed: 0                            0\n",
              "Montant initial                       0\n",
              "Abondement mensuel                    0\n",
              "Durée                                 0\n",
              "Type utilisateur                      0\n",
              "Niveau expérience financière          0\n",
              "Niveau appétence au risque            0\n",
              "Niveau capacité de prise de risque    0\n",
              "Patrimoine total                      0\n",
              "Revenus                               0\n",
              "Statut marital                        0\n",
              "Nombre d'enfants à charge             0\n",
              "dtype: int64"
            ]
          },
          "metadata": {
            "tags": []
          },
          "execution_count": 108
        }
      ]
    },
    {
      "cell_type": "code",
      "metadata": {
        "id": "SZVbXiskkaIv"
      },
      "source": [
        "# save csv checkpoint\n",
        "#df.to_csv(\"/content/drive/MyDrive/Mon petit placement/cleaned_csv/Data_clean\",index=False)"
      ],
      "execution_count": 168,
      "outputs": []
    },
    {
      "cell_type": "markdown",
      "metadata": {
        "id": "DehID0ZmxRfx"
      },
      "source": [
        "## Partie Modelisation"
      ]
    },
    {
      "cell_type": "code",
      "metadata": {
        "id": "TnfBRmRIwI61"
      },
      "source": [
        "df =pd.read_csv(\"/content/drive/MyDrive/Mon petit placement/cleaned_csv/Data_clean\")"
      ],
      "execution_count": 172,
      "outputs": []
    },
    {
      "cell_type": "code",
      "metadata": {
        "colab": {
          "base_uri": "https://localhost:8080/",
          "height": 419
        },
        "id": "d7z0VGeaSjnF",
        "outputId": "22f03484-99f3-4936-c725-ff29bffaf5f1"
      },
      "source": [
        "df[numeric_features]"
      ],
      "execution_count": 173,
      "outputs": [
        {
          "output_type": "execute_result",
          "data": {
            "text/html": [
              "<div>\n",
              "<style scoped>\n",
              "    .dataframe tbody tr th:only-of-type {\n",
              "        vertical-align: middle;\n",
              "    }\n",
              "\n",
              "    .dataframe tbody tr th {\n",
              "        vertical-align: top;\n",
              "    }\n",
              "\n",
              "    .dataframe thead th {\n",
              "        text-align: right;\n",
              "    }\n",
              "</style>\n",
              "<table border=\"1\" class=\"dataframe\">\n",
              "  <thead>\n",
              "    <tr style=\"text-align: right;\">\n",
              "      <th></th>\n",
              "      <th>Montant initial</th>\n",
              "      <th>Abondement mensuel</th>\n",
              "      <th>Durée</th>\n",
              "      <th>Patrimoine total</th>\n",
              "      <th>Revenus</th>\n",
              "      <th>Nombre d'enfants à charge</th>\n",
              "    </tr>\n",
              "  </thead>\n",
              "  <tbody>\n",
              "    <tr>\n",
              "      <th>0</th>\n",
              "      <td>4.741925e+08</td>\n",
              "      <td>22551.490644</td>\n",
              "      <td>4</td>\n",
              "      <td>1.289913e+08</td>\n",
              "      <td>3754.185338</td>\n",
              "      <td>0</td>\n",
              "    </tr>\n",
              "    <tr>\n",
              "      <th>1</th>\n",
              "      <td>5.000000e+02</td>\n",
              "      <td>100.000000</td>\n",
              "      <td>5</td>\n",
              "      <td>0.000000e+00</td>\n",
              "      <td>2000.000000</td>\n",
              "      <td>0</td>\n",
              "    </tr>\n",
              "    <tr>\n",
              "      <th>2</th>\n",
              "      <td>4.741925e+08</td>\n",
              "      <td>22551.490644</td>\n",
              "      <td>4</td>\n",
              "      <td>1.289913e+08</td>\n",
              "      <td>3754.185338</td>\n",
              "      <td>0</td>\n",
              "    </tr>\n",
              "    <tr>\n",
              "      <th>3</th>\n",
              "      <td>1.000000e+03</td>\n",
              "      <td>100.000000</td>\n",
              "      <td>5</td>\n",
              "      <td>2.000000e+06</td>\n",
              "      <td>56400.000000</td>\n",
              "      <td>3</td>\n",
              "    </tr>\n",
              "    <tr>\n",
              "      <th>4</th>\n",
              "      <td>4.000000e+03</td>\n",
              "      <td>0.000000</td>\n",
              "      <td>8</td>\n",
              "      <td>1.000000e+02</td>\n",
              "      <td>100.000000</td>\n",
              "      <td>1</td>\n",
              "    </tr>\n",
              "    <tr>\n",
              "      <th>...</th>\n",
              "      <td>...</td>\n",
              "      <td>...</td>\n",
              "      <td>...</td>\n",
              "      <td>...</td>\n",
              "      <td>...</td>\n",
              "      <td>...</td>\n",
              "    </tr>\n",
              "    <tr>\n",
              "      <th>9040</th>\n",
              "      <td>5.000000e+03</td>\n",
              "      <td>500.000000</td>\n",
              "      <td>5</td>\n",
              "      <td>1.500000e+06</td>\n",
              "      <td>8000.000000</td>\n",
              "      <td>0</td>\n",
              "    </tr>\n",
              "    <tr>\n",
              "      <th>9041</th>\n",
              "      <td>4.741925e+08</td>\n",
              "      <td>22551.490644</td>\n",
              "      <td>4</td>\n",
              "      <td>1.289913e+08</td>\n",
              "      <td>3754.185338</td>\n",
              "      <td>0</td>\n",
              "    </tr>\n",
              "    <tr>\n",
              "      <th>9042</th>\n",
              "      <td>2.000000e+02</td>\n",
              "      <td>100.000000</td>\n",
              "      <td>2</td>\n",
              "      <td>1.500000e+03</td>\n",
              "      <td>5000.000000</td>\n",
              "      <td>2</td>\n",
              "    </tr>\n",
              "    <tr>\n",
              "      <th>9043</th>\n",
              "      <td>1.000000e+03</td>\n",
              "      <td>100.000000</td>\n",
              "      <td>1</td>\n",
              "      <td>3.400000e+05</td>\n",
              "      <td>3400.000000</td>\n",
              "      <td>2</td>\n",
              "    </tr>\n",
              "    <tr>\n",
              "      <th>9044</th>\n",
              "      <td>5.000000e+03</td>\n",
              "      <td>200.000000</td>\n",
              "      <td>5</td>\n",
              "      <td>2.700000e+04</td>\n",
              "      <td>5000.000000</td>\n",
              "      <td>0</td>\n",
              "    </tr>\n",
              "  </tbody>\n",
              "</table>\n",
              "<p>9045 rows × 6 columns</p>\n",
              "</div>"
            ],
            "text/plain": [
              "      Montant initial  ...  Nombre d'enfants à charge\n",
              "0        4.741925e+08  ...                          0\n",
              "1        5.000000e+02  ...                          0\n",
              "2        4.741925e+08  ...                          0\n",
              "3        1.000000e+03  ...                          3\n",
              "4        4.000000e+03  ...                          1\n",
              "...               ...  ...                        ...\n",
              "9040     5.000000e+03  ...                          0\n",
              "9041     4.741925e+08  ...                          0\n",
              "9042     2.000000e+02  ...                          2\n",
              "9043     1.000000e+03  ...                          2\n",
              "9044     5.000000e+03  ...                          0\n",
              "\n",
              "[9045 rows x 6 columns]"
            ]
          },
          "metadata": {
            "tags": []
          },
          "execution_count": 173
        }
      ]
    },
    {
      "cell_type": "code",
      "metadata": {
        "colab": {
          "base_uri": "https://localhost:8080/",
          "height": 238
        },
        "id": "K4x82XqCk8z2",
        "outputId": "1ab5ea39-fca9-4fb3-b2a9-17ddb1a5bf70"
      },
      "source": [
        "df.head()"
      ],
      "execution_count": 174,
      "outputs": [
        {
          "output_type": "execute_result",
          "data": {
            "text/html": [
              "<div>\n",
              "<style scoped>\n",
              "    .dataframe tbody tr th:only-of-type {\n",
              "        vertical-align: middle;\n",
              "    }\n",
              "\n",
              "    .dataframe tbody tr th {\n",
              "        vertical-align: top;\n",
              "    }\n",
              "\n",
              "    .dataframe thead th {\n",
              "        text-align: right;\n",
              "    }\n",
              "</style>\n",
              "<table border=\"1\" class=\"dataframe\">\n",
              "  <thead>\n",
              "    <tr style=\"text-align: right;\">\n",
              "      <th></th>\n",
              "      <th>Montant initial</th>\n",
              "      <th>Abondement mensuel</th>\n",
              "      <th>Durée</th>\n",
              "      <th>Type utilisateur</th>\n",
              "      <th>Niveau expérience financière</th>\n",
              "      <th>Niveau appétence au risque</th>\n",
              "      <th>Niveau capacité de prise de risque</th>\n",
              "      <th>Patrimoine total</th>\n",
              "      <th>Revenus</th>\n",
              "      <th>Statut marital</th>\n",
              "      <th>Nombre d'enfants à charge</th>\n",
              "    </tr>\n",
              "  </thead>\n",
              "  <tbody>\n",
              "    <tr>\n",
              "      <th>0</th>\n",
              "      <td>4.741925e+08</td>\n",
              "      <td>22551.490644</td>\n",
              "      <td>4</td>\n",
              "      <td>0</td>\n",
              "      <td>initie</td>\n",
              "      <td>dynamique</td>\n",
              "      <td>beaucoup</td>\n",
              "      <td>1.289913e+08</td>\n",
              "      <td>3754.185338</td>\n",
              "      <td>Célibataire</td>\n",
              "      <td>0</td>\n",
              "    </tr>\n",
              "    <tr>\n",
              "      <th>1</th>\n",
              "      <td>5.000000e+02</td>\n",
              "      <td>100.000000</td>\n",
              "      <td>5</td>\n",
              "      <td>0</td>\n",
              "      <td>initie</td>\n",
              "      <td>offensif</td>\n",
              "      <td>peu</td>\n",
              "      <td>0.000000e+00</td>\n",
              "      <td>2000.000000</td>\n",
              "      <td>Concubin (e)</td>\n",
              "      <td>0</td>\n",
              "    </tr>\n",
              "    <tr>\n",
              "      <th>2</th>\n",
              "      <td>4.741925e+08</td>\n",
              "      <td>22551.490644</td>\n",
              "      <td>4</td>\n",
              "      <td>0</td>\n",
              "      <td>initie</td>\n",
              "      <td>dynamique</td>\n",
              "      <td>beaucoup</td>\n",
              "      <td>1.289913e+08</td>\n",
              "      <td>3754.185338</td>\n",
              "      <td>Célibataire</td>\n",
              "      <td>0</td>\n",
              "    </tr>\n",
              "    <tr>\n",
              "      <th>3</th>\n",
              "      <td>1.000000e+03</td>\n",
              "      <td>100.000000</td>\n",
              "      <td>5</td>\n",
              "      <td>0</td>\n",
              "      <td>confirme</td>\n",
              "      <td>dynamique</td>\n",
              "      <td>beaucoup</td>\n",
              "      <td>2.000000e+06</td>\n",
              "      <td>56400.000000</td>\n",
              "      <td>Marié(e)</td>\n",
              "      <td>3</td>\n",
              "    </tr>\n",
              "    <tr>\n",
              "      <th>4</th>\n",
              "      <td>4.000000e+03</td>\n",
              "      <td>0.000000</td>\n",
              "      <td>8</td>\n",
              "      <td>0</td>\n",
              "      <td>confirme</td>\n",
              "      <td>dynamique</td>\n",
              "      <td>peu</td>\n",
              "      <td>1.000000e+02</td>\n",
              "      <td>100.000000</td>\n",
              "      <td>Marié(e)</td>\n",
              "      <td>1</td>\n",
              "    </tr>\n",
              "  </tbody>\n",
              "</table>\n",
              "</div>"
            ],
            "text/plain": [
              "   Montant initial  ...  Nombre d'enfants à charge\n",
              "0     4.741925e+08  ...                          0\n",
              "1     5.000000e+02  ...                          0\n",
              "2     4.741925e+08  ...                          0\n",
              "3     1.000000e+03  ...                          3\n",
              "4     4.000000e+03  ...                          1\n",
              "\n",
              "[5 rows x 11 columns]"
            ]
          },
          "metadata": {
            "tags": []
          },
          "execution_count": 174
        }
      ]
    },
    {
      "cell_type": "code",
      "metadata": {
        "id": "_PS93JTzlF1O"
      },
      "source": [
        "numeric_features = list(df.select_dtypes(include=['int64', 'float64']).columns.values)\n",
        "numeric_features.remove(\"Type utilisateur\")\n",
        "categorical_features = df.select_dtypes(include=['object']).columns.values"
      ],
      "execution_count": 175,
      "outputs": []
    },
    {
      "cell_type": "code",
      "metadata": {
        "colab": {
          "base_uri": "https://localhost:8080/"
        },
        "id": "Y5e7w-qizWU3",
        "outputId": "14caff85-182a-4f8a-8020-95b1bd944c55"
      },
      "source": [
        "numeric_features"
      ],
      "execution_count": 176,
      "outputs": [
        {
          "output_type": "execute_result",
          "data": {
            "text/plain": [
              "['Montant initial',\n",
              " 'Abondement mensuel',\n",
              " 'Durée',\n",
              " 'Patrimoine total',\n",
              " 'Revenus',\n",
              " \"Nombre d'enfants à charge\"]"
            ]
          },
          "metadata": {
            "tags": []
          },
          "execution_count": 176
        }
      ]
    },
    {
      "cell_type": "code",
      "metadata": {
        "id": "tkJ7dLn7TEAK"
      },
      "source": [
        "tsne_df = df.copy() \n",
        "\n",
        "st = StandardScaler()\n",
        "tsne_df[numeric_features] = st.fit_transform(tsne_df[numeric_features])\n",
        "\n",
        "\n",
        "tsne = TSNE(n_components=2)\n",
        "tsne_results = tsne.fit_transform(tsne_df[numeric_features])\n",
        "\n",
        "tsne_df['tsne-2d-un'] = tsne_results[:,0]\n",
        "tsne_df['tsne-2d-deux'] = tsne_results[:,1]"
      ],
      "execution_count": 177,
      "outputs": []
    },
    {
      "cell_type": "code",
      "metadata": {
        "colab": {
          "base_uri": "https://localhost:8080/",
          "height": 514
        },
        "id": "OatxbDPEVGbD",
        "outputId": "a7ca59b5-0e30-4eba-ac5b-cbdef1c421aa"
      },
      "source": [
        "plt.figure(figsize=(10,8))\n",
        "sns.scatterplot(\n",
        "    data=tsne_df,\n",
        "    x=\"tsne-2d-un\", y=\"tsne-2d-deux\",\n",
        "    hue=\"Type utilisateur\",\n",
        "    palette=sns.color_palette(\"hls\", 2),    \n",
        "    legend=\"full\",\n",
        ")"
      ],
      "execution_count": 178,
      "outputs": [
        {
          "output_type": "execute_result",
          "data": {
            "text/plain": [
              "<matplotlib.axes._subplots.AxesSubplot at 0x7faf041f9a90>"
            ]
          },
          "metadata": {
            "tags": []
          },
          "execution_count": 178
        },
        {
          "output_type": "display_data",
          "data": {
            "image/png": "[encoded data removed]",
            "text/plain": [
              "<Figure size 720x576 with 1 Axes>"
            ]
          },
          "metadata": {
            "tags": []
          }
        }
      ]
    },
    {
      "cell_type": "code",
      "metadata": {
        "id": "jGbNtIdoQRf0"
      },
      "source": [
        "pca_df = df.copy() \n",
        "\n",
        "st = StandardScaler()\n",
        "pca_df[numeric_features] = st.fit_transform(pca_df[numeric_features])\n",
        "\n",
        "\n",
        "pca = PCA()\n",
        "pca_results = pca.fit_transform(pca_df[numeric_features])\n",
        "\n",
        "pca_df['pca-2d-un'] = pca_results[:,0]\n",
        "pca_df['pca-2d-deux'] = pca_results[:,1]"
      ],
      "execution_count": 110,
      "outputs": []
    },
    {
      "cell_type": "code",
      "metadata": {
        "colab": {
          "base_uri": "https://localhost:8080/"
        },
        "id": "4LRFzDb5ABEy",
        "outputId": "58fe480a-71e3-4209-b36d-b6045dc42832"
      },
      "source": [
        "#nombre d'observations\n",
        "n = pca_df[numeric_features].shape[0]\n",
        "#nombre de variables\n",
        "p = X.shape[1]\n",
        "eig = eigval = (n-1)/n*pca.explained_variance_\n",
        "eigval"
      ],
      "execution_count": 112,
      "outputs": [
        {
          "output_type": "execute_result",
          "data": {
            "text/plain": [
              "array([1.70104293, 1.34837837, 1.02211081, 0.95711504, 0.66242115,\n",
              "       0.30893169])"
            ]
          },
          "metadata": {
            "tags": []
          },
          "execution_count": 112
        }
      ]
    },
    {
      "cell_type": "code",
      "metadata": {
        "colab": {
          "base_uri": "https://localhost:8080/",
          "height": 295
        },
        "id": "AuUpAyDZ_8uB",
        "outputId": "1f431289-1578-4ae4-efb1-d695cace53d7"
      },
      "source": [
        "# barplot des valeurs propres\n",
        "plt.bar(np.arange(1,p+1),eigval);\n",
        "plt.title(\"Barplot\")\n",
        "plt.ylabel(\"Eigen values\")\n",
        "plt.xlabel(\"Factor number\")\n",
        "plt.show()"
      ],
      "execution_count": 113,
      "outputs": [
        {
          "output_type": "display_data",
          "data": {
            "image/png": "[encoded data removed]",
            "text/plain": [
              "<Figure size 432x288 with 1 Axes>"
            ]
          },
          "metadata": {
            "tags": [],
            "needs_background": "light"
          }
        }
      ]
    },
    {
      "cell_type": "code",
      "metadata": {
        "colab": {
          "base_uri": "https://localhost:8080/",
          "height": 514
        },
        "id": "S7A7RATu6Quy",
        "outputId": "a32cbdaf-3f9a-46a7-ab66-af630b8e0d04"
      },
      "source": [
        "plt.figure(figsize=(10,8))\n",
        "sns.scatterplot(\n",
        "    data=pca_df,\n",
        "    x=\"pca-2d-un\", y=\"pca-2d-deux\",\n",
        "    hue=\"Type utilisateur\",\n",
        "    palette=sns.color_palette(\"hls\", 2),    \n",
        "    legend=\"full\",\n",
        ")"
      ],
      "execution_count": 82,
      "outputs": [
        {
          "output_type": "execute_result",
          "data": {
            "text/plain": [
              "<matplotlib.axes._subplots.AxesSubplot at 0x7faf0a8c5b70>"
            ]
          },
          "metadata": {
            "tags": []
          },
          "execution_count": 82
        },
        {
          "output_type": "display_data",
          "data": {
            "image/png": "[encoded data removed]",
            "text/plain": [
              "<Figure size 720x576 with 1 Axes>"
            ]
          },
          "metadata": {
            "tags": [],
            "needs_background": "light"
          }
        }
      ]
    },
    {
      "cell_type": "code",
      "metadata": {
        "colab": {
          "base_uri": "https://localhost:8080/",
          "height": 501
        },
        "id": "QsTxP4nnAhGV",
        "outputId": "cd4b8f31-539c-48c4-9598-16a283e3f3ba"
      },
      "source": [
        "coord = pca_results\n",
        "\n",
        "# Matrice de Corrélation\n",
        "sqrt_eigval = np.sqrt(eigval)\n",
        "corvar = np.zeros((p,p))\n",
        "\n",
        "#corrélation de la cible avec les axes factoriels\n",
        "corSupp = np.zeros((1,p))\n",
        "for k in range(p):\n",
        "    corSupp[0,k] = np.corrcoef(y,coord[:,k])[0,1]\n",
        "corSupp\n",
        "for k in range(p):\n",
        "    corvar[:,k] = pca.components_[k,:] * sqrt_eigval[k]\n",
        "#cosinus carré des variables (qualité de représentation)\n",
        "cos2var = corvar**2\n",
        "#contributions\n",
        "ctrvar = cos2var\n",
        "for k in range(p):\n",
        "    ctrvar[:,k] = ctrvar[:,k]/eigval[k]\n",
        "#cercle des corrélations du plan\n",
        "fig, axes = plt.subplots(figsize=(8,8))\n",
        "axes.set_xlim(-1,1)\n",
        "axes.set_ylim(-1,1)\n",
        "#affichage des variables actives\n",
        "for j in range(p):\n",
        "    plt.annotate(pca_df[numeric_features].columns[j],(corvar[j,0],corvar[j,1]),color='blue')\n",
        "    plt.annotate(\"\",\n",
        "              xy=(0, 0), xycoords='data',\n",
        "              xytext=(corvar[j,0],corvar[j,1]), textcoords='data',\n",
        "              arrowprops=dict(color='blue',arrowstyle='<|-',\n",
        "                              connectionstyle=\"arc3,rad=0.\"), \n",
        "              )\n",
        "#affiche des variables illustratives (y)\n",
        "plt.annotate('DEFAULT',(corSupp[0,0],corSupp[0,1]),color='red')\n",
        "plt.annotate(\"\",\n",
        "              xy=(0, 0), xycoords='data',\n",
        "              xytext=(corSupp[0,0],corSupp[0,1]), textcoords='data',\n",
        "              arrowprops=dict(color='red',arrowstyle='<|-',\n",
        "                              connectionstyle=\"arc3,rad=0.\"), \n",
        "              )\n",
        "#ajouter les axes\n",
        "plt.plot([-1,1],[0,0],color='black',linestyle='-',linewidth=1)\n",
        "plt.plot([0,0],[-1,1],color='black',linestyle='-',linewidth=1)\n",
        "#ajouter un cercle\n",
        "cercle = plt.Circle((0,0),1,color='black',fill=False)\n",
        "axes.add_artist(cercle)\n",
        "#affichage\n",
        "plt.xlabel(\"Dim 1 (%0.2f %%)\"% (pca.explained_variance_ratio_[0]*100))\n",
        "plt.ylabel(\"Dim 2 (%0.2f %%)\"% (pca.explained_variance_ratio_[1]*100))\n",
        "plt.show()"
      ],
      "execution_count": 120,
      "outputs": [
        {
          "output_type": "display_data",
          "data": {
            "image/png": "[encoded data removed]",
            "text/plain": [
              "<Figure size 576x576 with 1 Axes>"
            ]
          },
          "metadata": {
            "tags": [],
            "needs_background": "light"
          }
        }
      ]
    },
    {
      "cell_type": "markdown",
      "metadata": {
        "id": "ur4q3JGi7KsG"
      },
      "source": [
        "#Feature Importance comparé par type d'utlisateur\n"
      ]
    },
    {
      "cell_type": "code",
      "metadata": {
        "id": "NGmxa20d7Jon"
      },
      "source": [
        "def encode_des_variables(df):\n",
        "  cat_cols = df.select_dtypes(include=['object']).columns.values\n",
        "  for col in cat_cols:\n",
        "    if df[col].nunique == 2:\n",
        "      df[col] = df[col].factorize()[0]\n",
        "    else:\n",
        "      df = pd.concat([df,pd.get_dummies(df[col])],axis=1)\n",
        "      df.drop(columns=[col],inplace=True)\n",
        "  return df   "
      ],
      "execution_count": 100,
      "outputs": []
    },
    {
      "cell_type": "code",
      "metadata": {
        "id": "HgJZICjr7tcP"
      },
      "source": [
        "df_encoded = encode_des_variables(df)"
      ],
      "execution_count": 105,
      "outputs": []
    },
    {
      "cell_type": "code",
      "metadata": {
        "colab": {
          "base_uri": "https://localhost:8080/"
        },
        "id": "gzuV_WE8R4t2",
        "outputId": "5f0d298f-ab3c-494e-99c6-79049ec0b2a9"
      },
      "source": [
        "test[\"Nombre d\\'enfants à charge\"].value_counts()"
      ],
      "execution_count": 146,
      "outputs": [
        {
          "output_type": "execute_result",
          "data": {
            "text/plain": [
              "0.0    4222\n",
              "1.0     482\n",
              "2.0     455\n",
              "3.0     124\n",
              "4.0      26\n",
              "5.0      14\n",
              "Name: Nombre d'enfants à charge, dtype: int64"
            ]
          },
          "metadata": {
            "tags": []
          },
          "execution_count": 146
        }
      ]
    },
    {
      "cell_type": "code",
      "metadata": {
        "colab": {
          "base_uri": "https://localhost:8080/",
          "height": 258
        },
        "id": "H6GYFUlW9NqN",
        "outputId": "92059581-ec02-4db1-f2f1-666e9150d24b"
      },
      "source": [
        "df_encoded.head()"
      ],
      "execution_count": 106,
      "outputs": [
        {
          "output_type": "execute_result",
          "data": {
            "text/html": [
              "<div>\n",
              "<style scoped>\n",
              "    .dataframe tbody tr th:only-of-type {\n",
              "        vertical-align: middle;\n",
              "    }\n",
              "\n",
              "    .dataframe tbody tr th {\n",
              "        vertical-align: top;\n",
              "    }\n",
              "\n",
              "    .dataframe thead th {\n",
              "        text-align: right;\n",
              "    }\n",
              "</style>\n",
              "<table border=\"1\" class=\"dataframe\">\n",
              "  <thead>\n",
              "    <tr style=\"text-align: right;\">\n",
              "      <th></th>\n",
              "      <th>Montant initial</th>\n",
              "      <th>Abondement mensuel</th>\n",
              "      <th>Durée</th>\n",
              "      <th>Type utilisateur</th>\n",
              "      <th>Patrimoine total</th>\n",
              "      <th>Revenus</th>\n",
              "      <th>Nombre d'enfants à charge</th>\n",
              "      <th>confirme</th>\n",
              "      <th>debutant</th>\n",
              "      <th>expert</th>\n",
              "      <th>initie</th>\n",
              "      <th>dynamique</th>\n",
              "      <th>equilibre</th>\n",
              "      <th>offensif</th>\n",
              "      <th>prudent</th>\n",
              "      <th>aucun</th>\n",
              "      <th>beaucoup</th>\n",
              "      <th>normal</th>\n",
              "      <th>peu</th>\n",
              "      <th>Concubin (e)</th>\n",
              "      <th>Célibataire</th>\n",
              "      <th>Divorcé(e)</th>\n",
              "      <th>Marié(e)</th>\n",
              "      <th>Pacsé(e)</th>\n",
              "      <th>Séparé(e) de corps</th>\n",
              "      <th>Veuf(ve)</th>\n",
              "    </tr>\n",
              "  </thead>\n",
              "  <tbody>\n",
              "    <tr>\n",
              "      <th>0</th>\n",
              "      <td>4.741925e+08</td>\n",
              "      <td>22551.490644</td>\n",
              "      <td>4.607363</td>\n",
              "      <td>0</td>\n",
              "      <td>1.289913e+08</td>\n",
              "      <td>3754.185338</td>\n",
              "      <td>0.36408</td>\n",
              "      <td>0</td>\n",
              "      <td>0</td>\n",
              "      <td>0</td>\n",
              "      <td>1</td>\n",
              "      <td>1</td>\n",
              "      <td>0</td>\n",
              "      <td>0</td>\n",
              "      <td>0</td>\n",
              "      <td>0</td>\n",
              "      <td>1</td>\n",
              "      <td>0</td>\n",
              "      <td>0</td>\n",
              "      <td>0</td>\n",
              "      <td>1</td>\n",
              "      <td>0</td>\n",
              "      <td>0</td>\n",
              "      <td>0</td>\n",
              "      <td>0</td>\n",
              "      <td>0</td>\n",
              "    </tr>\n",
              "    <tr>\n",
              "      <th>1</th>\n",
              "      <td>5.000000e+02</td>\n",
              "      <td>100.000000</td>\n",
              "      <td>5.000000</td>\n",
              "      <td>0</td>\n",
              "      <td>0.000000e+00</td>\n",
              "      <td>2000.000000</td>\n",
              "      <td>0.00000</td>\n",
              "      <td>0</td>\n",
              "      <td>0</td>\n",
              "      <td>0</td>\n",
              "      <td>1</td>\n",
              "      <td>0</td>\n",
              "      <td>0</td>\n",
              "      <td>1</td>\n",
              "      <td>0</td>\n",
              "      <td>0</td>\n",
              "      <td>0</td>\n",
              "      <td>0</td>\n",
              "      <td>1</td>\n",
              "      <td>1</td>\n",
              "      <td>0</td>\n",
              "      <td>0</td>\n",
              "      <td>0</td>\n",
              "      <td>0</td>\n",
              "      <td>0</td>\n",
              "      <td>0</td>\n",
              "    </tr>\n",
              "    <tr>\n",
              "      <th>2</th>\n",
              "      <td>4.741925e+08</td>\n",
              "      <td>22551.490644</td>\n",
              "      <td>4.607363</td>\n",
              "      <td>0</td>\n",
              "      <td>1.289913e+08</td>\n",
              "      <td>3754.185338</td>\n",
              "      <td>0.36408</td>\n",
              "      <td>0</td>\n",
              "      <td>0</td>\n",
              "      <td>0</td>\n",
              "      <td>1</td>\n",
              "      <td>1</td>\n",
              "      <td>0</td>\n",
              "      <td>0</td>\n",
              "      <td>0</td>\n",
              "      <td>0</td>\n",
              "      <td>1</td>\n",
              "      <td>0</td>\n",
              "      <td>0</td>\n",
              "      <td>0</td>\n",
              "      <td>1</td>\n",
              "      <td>0</td>\n",
              "      <td>0</td>\n",
              "      <td>0</td>\n",
              "      <td>0</td>\n",
              "      <td>0</td>\n",
              "    </tr>\n",
              "    <tr>\n",
              "      <th>3</th>\n",
              "      <td>1.000000e+03</td>\n",
              "      <td>100.000000</td>\n",
              "      <td>5.000000</td>\n",
              "      <td>0</td>\n",
              "      <td>2.000000e+06</td>\n",
              "      <td>56400.000000</td>\n",
              "      <td>3.00000</td>\n",
              "      <td>1</td>\n",
              "      <td>0</td>\n",
              "      <td>0</td>\n",
              "      <td>0</td>\n",
              "      <td>1</td>\n",
              "      <td>0</td>\n",
              "      <td>0</td>\n",
              "      <td>0</td>\n",
              "      <td>0</td>\n",
              "      <td>1</td>\n",
              "      <td>0</td>\n",
              "      <td>0</td>\n",
              "      <td>0</td>\n",
              "      <td>0</td>\n",
              "      <td>0</td>\n",
              "      <td>1</td>\n",
              "      <td>0</td>\n",
              "      <td>0</td>\n",
              "      <td>0</td>\n",
              "    </tr>\n",
              "    <tr>\n",
              "      <th>4</th>\n",
              "      <td>4.000000e+03</td>\n",
              "      <td>0.000000</td>\n",
              "      <td>8.000000</td>\n",
              "      <td>0</td>\n",
              "      <td>1.000000e+02</td>\n",
              "      <td>100.000000</td>\n",
              "      <td>1.00000</td>\n",
              "      <td>1</td>\n",
              "      <td>0</td>\n",
              "      <td>0</td>\n",
              "      <td>0</td>\n",
              "      <td>1</td>\n",
              "      <td>0</td>\n",
              "      <td>0</td>\n",
              "      <td>0</td>\n",
              "      <td>0</td>\n",
              "      <td>0</td>\n",
              "      <td>0</td>\n",
              "      <td>1</td>\n",
              "      <td>0</td>\n",
              "      <td>0</td>\n",
              "      <td>0</td>\n",
              "      <td>1</td>\n",
              "      <td>0</td>\n",
              "      <td>0</td>\n",
              "      <td>0</td>\n",
              "    </tr>\n",
              "  </tbody>\n",
              "</table>\n",
              "</div>"
            ],
            "text/plain": [
              "   Montant initial  Abondement mensuel  ...  Séparé(e) de corps  Veuf(ve)\n",
              "0     4.741925e+08        22551.490644  ...                   0         0\n",
              "1     5.000000e+02          100.000000  ...                   0         0\n",
              "2     4.741925e+08        22551.490644  ...                   0         0\n",
              "3     1.000000e+03          100.000000  ...                   0         0\n",
              "4     4.000000e+03            0.000000  ...                   0         0\n",
              "\n",
              "[5 rows x 26 columns]"
            ]
          },
          "metadata": {
            "tags": []
          },
          "execution_count": 106
        }
      ]
    },
    {
      "cell_type": "code",
      "metadata": {
        "id": "fQQcNw2p9wrM"
      },
      "source": [
        "# save checkpoint\n",
        "#df_encoded.to_csv(\"/content/drive/MyDrive/Mon petit placement/cleaned_csv/Data_clean_encoded\",index= False)"
      ],
      "execution_count": 181,
      "outputs": []
    },
    {
      "cell_type": "code",
      "metadata": {
        "colab": {
          "base_uri": "https://localhost:8080/",
          "height": 258
        },
        "id": "XaS-a-IYVdYD",
        "outputId": "5fe79856-a1a3-4202-ee5f-deda539b8b8b"
      },
      "source": [
        "df_encoded.head()"
      ],
      "execution_count": 182,
      "outputs": [
        {
          "output_type": "execute_result",
          "data": {
            "text/html": [
              "<div>\n",
              "<style scoped>\n",
              "    .dataframe tbody tr th:only-of-type {\n",
              "        vertical-align: middle;\n",
              "    }\n",
              "\n",
              "    .dataframe tbody tr th {\n",
              "        vertical-align: top;\n",
              "    }\n",
              "\n",
              "    .dataframe thead th {\n",
              "        text-align: right;\n",
              "    }\n",
              "</style>\n",
              "<table border=\"1\" class=\"dataframe\">\n",
              "  <thead>\n",
              "    <tr style=\"text-align: right;\">\n",
              "      <th></th>\n",
              "      <th>Montant initial</th>\n",
              "      <th>Abondement mensuel</th>\n",
              "      <th>Durée</th>\n",
              "      <th>Type utilisateur</th>\n",
              "      <th>Patrimoine total</th>\n",
              "      <th>Revenus</th>\n",
              "      <th>Nombre d'enfants à charge</th>\n",
              "      <th>confirme</th>\n",
              "      <th>debutant</th>\n",
              "      <th>expert</th>\n",
              "      <th>initie</th>\n",
              "      <th>dynamique</th>\n",
              "      <th>equilibre</th>\n",
              "      <th>offensif</th>\n",
              "      <th>prudent</th>\n",
              "      <th>aucun</th>\n",
              "      <th>beaucoup</th>\n",
              "      <th>normal</th>\n",
              "      <th>peu</th>\n",
              "      <th>Concubin (e)</th>\n",
              "      <th>Célibataire</th>\n",
              "      <th>Divorcé(e)</th>\n",
              "      <th>Marié(e)</th>\n",
              "      <th>Pacsé(e)</th>\n",
              "      <th>Séparé(e) de corps</th>\n",
              "      <th>Veuf(ve)</th>\n",
              "    </tr>\n",
              "  </thead>\n",
              "  <tbody>\n",
              "    <tr>\n",
              "      <th>0</th>\n",
              "      <td>4.741925e+08</td>\n",
              "      <td>22551.490644</td>\n",
              "      <td>4</td>\n",
              "      <td>0</td>\n",
              "      <td>1.289913e+08</td>\n",
              "      <td>3754.185338</td>\n",
              "      <td>0</td>\n",
              "      <td>0</td>\n",
              "      <td>0</td>\n",
              "      <td>0</td>\n",
              "      <td>1</td>\n",
              "      <td>1</td>\n",
              "      <td>0</td>\n",
              "      <td>0</td>\n",
              "      <td>0</td>\n",
              "      <td>0</td>\n",
              "      <td>1</td>\n",
              "      <td>0</td>\n",
              "      <td>0</td>\n",
              "      <td>0</td>\n",
              "      <td>1</td>\n",
              "      <td>0</td>\n",
              "      <td>0</td>\n",
              "      <td>0</td>\n",
              "      <td>0</td>\n",
              "      <td>0</td>\n",
              "    </tr>\n",
              "    <tr>\n",
              "      <th>1</th>\n",
              "      <td>5.000000e+02</td>\n",
              "      <td>100.000000</td>\n",
              "      <td>5</td>\n",
              "      <td>0</td>\n",
              "      <td>0.000000e+00</td>\n",
              "      <td>2000.000000</td>\n",
              "      <td>0</td>\n",
              "      <td>0</td>\n",
              "      <td>0</td>\n",
              "      <td>0</td>\n",
              "      <td>1</td>\n",
              "      <td>0</td>\n",
              "      <td>0</td>\n",
              "      <td>1</td>\n",
              "      <td>0</td>\n",
              "      <td>0</td>\n",
              "      <td>0</td>\n",
              "      <td>0</td>\n",
              "      <td>1</td>\n",
              "      <td>1</td>\n",
              "      <td>0</td>\n",
              "      <td>0</td>\n",
              "      <td>0</td>\n",
              "      <td>0</td>\n",
              "      <td>0</td>\n",
              "      <td>0</td>\n",
              "    </tr>\n",
              "    <tr>\n",
              "      <th>2</th>\n",
              "      <td>4.741925e+08</td>\n",
              "      <td>22551.490644</td>\n",
              "      <td>4</td>\n",
              "      <td>0</td>\n",
              "      <td>1.289913e+08</td>\n",
              "      <td>3754.185338</td>\n",
              "      <td>0</td>\n",
              "      <td>0</td>\n",
              "      <td>0</td>\n",
              "      <td>0</td>\n",
              "      <td>1</td>\n",
              "      <td>1</td>\n",
              "      <td>0</td>\n",
              "      <td>0</td>\n",
              "      <td>0</td>\n",
              "      <td>0</td>\n",
              "      <td>1</td>\n",
              "      <td>0</td>\n",
              "      <td>0</td>\n",
              "      <td>0</td>\n",
              "      <td>1</td>\n",
              "      <td>0</td>\n",
              "      <td>0</td>\n",
              "      <td>0</td>\n",
              "      <td>0</td>\n",
              "      <td>0</td>\n",
              "    </tr>\n",
              "    <tr>\n",
              "      <th>3</th>\n",
              "      <td>1.000000e+03</td>\n",
              "      <td>100.000000</td>\n",
              "      <td>5</td>\n",
              "      <td>0</td>\n",
              "      <td>2.000000e+06</td>\n",
              "      <td>56400.000000</td>\n",
              "      <td>3</td>\n",
              "      <td>1</td>\n",
              "      <td>0</td>\n",
              "      <td>0</td>\n",
              "      <td>0</td>\n",
              "      <td>1</td>\n",
              "      <td>0</td>\n",
              "      <td>0</td>\n",
              "      <td>0</td>\n",
              "      <td>0</td>\n",
              "      <td>1</td>\n",
              "      <td>0</td>\n",
              "      <td>0</td>\n",
              "      <td>0</td>\n",
              "      <td>0</td>\n",
              "      <td>0</td>\n",
              "      <td>1</td>\n",
              "      <td>0</td>\n",
              "      <td>0</td>\n",
              "      <td>0</td>\n",
              "    </tr>\n",
              "    <tr>\n",
              "      <th>4</th>\n",
              "      <td>4.000000e+03</td>\n",
              "      <td>0.000000</td>\n",
              "      <td>8</td>\n",
              "      <td>0</td>\n",
              "      <td>1.000000e+02</td>\n",
              "      <td>100.000000</td>\n",
              "      <td>1</td>\n",
              "      <td>1</td>\n",
              "      <td>0</td>\n",
              "      <td>0</td>\n",
              "      <td>0</td>\n",
              "      <td>1</td>\n",
              "      <td>0</td>\n",
              "      <td>0</td>\n",
              "      <td>0</td>\n",
              "      <td>0</td>\n",
              "      <td>0</td>\n",
              "      <td>0</td>\n",
              "      <td>1</td>\n",
              "      <td>0</td>\n",
              "      <td>0</td>\n",
              "      <td>0</td>\n",
              "      <td>1</td>\n",
              "      <td>0</td>\n",
              "      <td>0</td>\n",
              "      <td>0</td>\n",
              "    </tr>\n",
              "  </tbody>\n",
              "</table>\n",
              "</div>"
            ],
            "text/plain": [
              "   Montant initial  Abondement mensuel  ...  Séparé(e) de corps  Veuf(ve)\n",
              "0     4.741925e+08        22551.490644  ...                   0         0\n",
              "1     5.000000e+02          100.000000  ...                   0         0\n",
              "2     4.741925e+08        22551.490644  ...                   0         0\n",
              "3     1.000000e+03          100.000000  ...                   0         0\n",
              "4     4.000000e+03            0.000000  ...                   0         0\n",
              "\n",
              "[5 rows x 26 columns]"
            ]
          },
          "metadata": {
            "tags": []
          },
          "execution_count": 182
        }
      ]
    },
    {
      "cell_type": "code",
      "metadata": {
        "id": "IB9XEtEy9rJF"
      },
      "source": [
        "#!pip install yellowbrick --upgrade"
      ],
      "execution_count": null,
      "outputs": []
    },
    {
      "cell_type": "code",
      "metadata": {
        "id": "K-QRP29UF5AT"
      },
      "source": [
        "X= df_encoded.drop(columns=[\"Type utilisateur\"])\n",
        "y =df_encoded[\"Type utilisateur\"]"
      ],
      "execution_count": 183,
      "outputs": []
    },
    {
      "cell_type": "code",
      "metadata": {
        "id": "UdYtwNDwRCRO"
      },
      "source": [
        "# imputation des features numérique\n",
        "\n",
        "imputer = StandardScaler()\n",
        "X[numeric_features] = imputer.fit_transform(X[numeric_features])"
      ],
      "execution_count": 184,
      "outputs": []
    },
    {
      "cell_type": "code",
      "metadata": {
        "colab": {
          "base_uri": "https://localhost:8080/",
          "height": 500
        },
        "id": "sI-1GNTrMetq",
        "outputId": "d4d46515-671c-48b3-bfae-6fd727693a37"
      },
      "source": [
        "#univrate (Filter method)\n",
        "selected_features = SelectKBest(mutual_info_classif).fit(X, y)\n",
        "pd.DataFrame({\"Nom de Variable\" : X.columns , \"Score\": selected_features.scores_}).sort_values(by =\"Score\",ascending=True).plot.barh(x =\"Nom de Variable\",y=\"Score\",figsize =(10,8))"
      ],
      "execution_count": 195,
      "outputs": [
        {
          "output_type": "execute_result",
          "data": {
            "text/plain": [
              "<matplotlib.axes._subplots.AxesSubplot at 0x7faf03e6ce48>"
            ]
          },
          "metadata": {
            "tags": []
          },
          "execution_count": 195
        },
        {
          "output_type": "display_data",
          "data": {
            "image/png": "[encoded data removed]",
            "text/plain": [
              "<Figure size 720x576 with 1 Axes>"
            ]
          },
          "metadata": {
            "tags": []
          }
        }
      ]
    },
    {
      "cell_type": "code",
      "metadata": {
        "id": "wqJ4B9QmxIWz"
      },
      "source": [
        "# Methode Wrapper\n",
        "rfe = RFE(estimator=RandomForestClassifier())\n",
        "rfe.fit(X,y)"
      ],
      "execution_count": null,
      "outputs": []
    },
    {
      "cell_type": "code",
      "metadata": {
        "colab": {
          "base_uri": "https://localhost:8080/",
          "height": 824
        },
        "id": "f-NtRFHcYF5G",
        "outputId": "f67bb0f2-1c7d-4789-e8c6-24cad2dcee61"
      },
      "source": [
        "pd.DataFrame({\"Nom de Variable\" : X.columns , \"Rank\": rfe.ranking_}).sort_values(by =\"Rank\",ascending=True)"
      ],
      "execution_count": 202,
      "outputs": [
        {
          "output_type": "execute_result",
          "data": {
            "text/html": [
              "<div>\n",
              "<style scoped>\n",
              "    .dataframe tbody tr th:only-of-type {\n",
              "        vertical-align: middle;\n",
              "    }\n",
              "\n",
              "    .dataframe tbody tr th {\n",
              "        vertical-align: top;\n",
              "    }\n",
              "\n",
              "    .dataframe thead th {\n",
              "        text-align: right;\n",
              "    }\n",
              "</style>\n",
              "<table border=\"1\" class=\"dataframe\">\n",
              "  <thead>\n",
              "    <tr style=\"text-align: right;\">\n",
              "      <th></th>\n",
              "      <th>Nom de Variable</th>\n",
              "      <th>Rank</th>\n",
              "    </tr>\n",
              "  </thead>\n",
              "  <tbody>\n",
              "    <tr>\n",
              "      <th>0</th>\n",
              "      <td>Montant initial</td>\n",
              "      <td>1</td>\n",
              "    </tr>\n",
              "    <tr>\n",
              "      <th>1</th>\n",
              "      <td>Abondement mensuel</td>\n",
              "      <td>1</td>\n",
              "    </tr>\n",
              "    <tr>\n",
              "      <th>2</th>\n",
              "      <td>Durée</td>\n",
              "      <td>1</td>\n",
              "    </tr>\n",
              "    <tr>\n",
              "      <th>3</th>\n",
              "      <td>Patrimoine total</td>\n",
              "      <td>1</td>\n",
              "    </tr>\n",
              "    <tr>\n",
              "      <th>4</th>\n",
              "      <td>Revenus</td>\n",
              "      <td>1</td>\n",
              "    </tr>\n",
              "    <tr>\n",
              "      <th>5</th>\n",
              "      <td>Nombre d'enfants à charge</td>\n",
              "      <td>1</td>\n",
              "    </tr>\n",
              "    <tr>\n",
              "      <th>19</th>\n",
              "      <td>Célibataire</td>\n",
              "      <td>1</td>\n",
              "    </tr>\n",
              "    <tr>\n",
              "      <th>16</th>\n",
              "      <td>normal</td>\n",
              "      <td>1</td>\n",
              "    </tr>\n",
              "    <tr>\n",
              "      <th>8</th>\n",
              "      <td>expert</td>\n",
              "      <td>1</td>\n",
              "    </tr>\n",
              "    <tr>\n",
              "      <th>9</th>\n",
              "      <td>initie</td>\n",
              "      <td>1</td>\n",
              "    </tr>\n",
              "    <tr>\n",
              "      <th>10</th>\n",
              "      <td>dynamique</td>\n",
              "      <td>1</td>\n",
              "    </tr>\n",
              "    <tr>\n",
              "      <th>15</th>\n",
              "      <td>beaucoup</td>\n",
              "      <td>1</td>\n",
              "    </tr>\n",
              "    <tr>\n",
              "      <th>12</th>\n",
              "      <td>offensif</td>\n",
              "      <td>2</td>\n",
              "    </tr>\n",
              "    <tr>\n",
              "      <th>6</th>\n",
              "      <td>confirme</td>\n",
              "      <td>3</td>\n",
              "    </tr>\n",
              "    <tr>\n",
              "      <th>17</th>\n",
              "      <td>peu</td>\n",
              "      <td>4</td>\n",
              "    </tr>\n",
              "    <tr>\n",
              "      <th>11</th>\n",
              "      <td>equilibre</td>\n",
              "      <td>5</td>\n",
              "    </tr>\n",
              "    <tr>\n",
              "      <th>22</th>\n",
              "      <td>Pacsé(e)</td>\n",
              "      <td>6</td>\n",
              "    </tr>\n",
              "    <tr>\n",
              "      <th>18</th>\n",
              "      <td>Concubin (e)</td>\n",
              "      <td>7</td>\n",
              "    </tr>\n",
              "    <tr>\n",
              "      <th>21</th>\n",
              "      <td>Marié(e)</td>\n",
              "      <td>8</td>\n",
              "    </tr>\n",
              "    <tr>\n",
              "      <th>13</th>\n",
              "      <td>prudent</td>\n",
              "      <td>9</td>\n",
              "    </tr>\n",
              "    <tr>\n",
              "      <th>14</th>\n",
              "      <td>aucun</td>\n",
              "      <td>10</td>\n",
              "    </tr>\n",
              "    <tr>\n",
              "      <th>7</th>\n",
              "      <td>debutant</td>\n",
              "      <td>11</td>\n",
              "    </tr>\n",
              "    <tr>\n",
              "      <th>20</th>\n",
              "      <td>Divorcé(e)</td>\n",
              "      <td>12</td>\n",
              "    </tr>\n",
              "    <tr>\n",
              "      <th>23</th>\n",
              "      <td>Séparé(e) de corps</td>\n",
              "      <td>13</td>\n",
              "    </tr>\n",
              "    <tr>\n",
              "      <th>24</th>\n",
              "      <td>Veuf(ve)</td>\n",
              "      <td>14</td>\n",
              "    </tr>\n",
              "  </tbody>\n",
              "</table>\n",
              "</div>"
            ],
            "text/plain": [
              "              Nom de Variable  Rank\n",
              "0             Montant initial     1\n",
              "1          Abondement mensuel     1\n",
              "2                       Durée     1\n",
              "3            Patrimoine total     1\n",
              "4                     Revenus     1\n",
              "5   Nombre d'enfants à charge     1\n",
              "19                Célibataire     1\n",
              "16                     normal     1\n",
              "8                      expert     1\n",
              "9                      initie     1\n",
              "10                  dynamique     1\n",
              "15                   beaucoup     1\n",
              "12                   offensif     2\n",
              "6                    confirme     3\n",
              "17                        peu     4\n",
              "11                  equilibre     5\n",
              "22                   Pacsé(e)     6\n",
              "18               Concubin (e)     7\n",
              "21                   Marié(e)     8\n",
              "13                    prudent     9\n",
              "14                      aucun    10\n",
              "7                    debutant    11\n",
              "20                 Divorcé(e)    12\n",
              "23         Séparé(e) de corps    13\n",
              "24                   Veuf(ve)    14"
            ]
          },
          "metadata": {
            "tags": []
          },
          "execution_count": 202
        }
      ]
    },
    {
      "cell_type": "markdown",
      "metadata": {
        "id": "EfFma23WyEXA"
      },
      "source": [
        "#Partie Clustering "
      ]
    },
    {
      "cell_type": "code",
      "metadata": {
        "colab": {
          "base_uri": "https://localhost:8080/",
          "height": 648
        },
        "id": "OLlM1iuJw7JV",
        "outputId": "67afe41a-7b2c-45cf-dd25-d45fea1d6af9"
      },
      "source": [
        "df_Kmeans = pd.concat([X,y],axis=1)\n",
        "\n",
        "# avant k-mean on peut appliquer methode elbow pour avoir une idée de nombre k de cluster\n",
        "distortions = []\n",
        "K = range(1,10)\n",
        "for k in K:\n",
        "    kmeanModel = KMeans(n_clusters=k)\n",
        "    kmeanModel.fit(df_Kmeans)\n",
        "    distortions.append(kmeanModel.inertia_)\n",
        "    plt.figure(figsize=(16,8)) \n",
        "plt.plot(K, distortions, 'bx-')\n",
        "plt.xlabel('k') ; \n",
        "plt.ylabel('Distortion') \n",
        "plt.title('Methode Elbow') \n",
        "plt.show() "
      ],
      "execution_count": 212,
      "outputs": [
        {
          "output_type": "display_data",
          "data": {
            "text/plain": [
              "<Figure size 1152x576 with 0 Axes>"
            ]
          },
          "metadata": {
            "tags": []
          }
        },
        {
          "output_type": "display_data",
          "data": {
            "text/plain": [
              "<Figure size 1152x576 with 0 Axes>"
            ]
          },
          "metadata": {
            "tags": []
          }
        },
        {
          "output_type": "display_data",
          "data": {
            "text/plain": [
              "<Figure size 1152x576 with 0 Axes>"
            ]
          },
          "metadata": {
            "tags": []
          }
        },
        {
          "output_type": "display_data",
          "data": {
            "text/plain": [
              "<Figure size 1152x576 with 0 Axes>"
            ]
          },
          "metadata": {
            "tags": []
          }
        },
        {
          "output_type": "display_data",
          "data": {
            "text/plain": [
              "<Figure size 1152x576 with 0 Axes>"
            ]
          },
          "metadata": {
            "tags": []
          }
        },
        {
          "output_type": "display_data",
          "data": {
            "text/plain": [
              "<Figure size 1152x576 with 0 Axes>"
            ]
          },
          "metadata": {
            "tags": []
          }
        },
        {
          "output_type": "display_data",
          "data": {
            "text/plain": [
              "<Figure size 1152x576 with 0 Axes>"
            ]
          },
          "metadata": {
            "tags": []
          }
        },
        {
          "output_type": "display_data",
          "data": {
            "text/plain": [
              "<Figure size 1152x576 with 0 Axes>"
            ]
          },
          "metadata": {
            "tags": []
          }
        },
        {
          "output_type": "display_data",
          "data": {
            "image/png": "[encoded data removed]",
            "text/plain": [
              "<Figure size 1152x576 with 1 Axes>"
            ]
          },
          "metadata": {
            "tags": []
          }
        }
      ]
    },
    {
      "cell_type": "code",
      "metadata": {
        "id": "SlOfMnhIzMqO"
      },
      "source": [
        "km = KMeans(n_clusters=5,init=\"k-means++\").fit(df_Kmeans)\n",
        "y_predicted = km.fit_predict(df_Kmeans)\n",
        "df_Kmeans[\"Cluster\"] = y_predicted"
      ],
      "execution_count": 216,
      "outputs": []
    },
    {
      "cell_type": "code",
      "metadata": {
        "colab": {
          "base_uri": "https://localhost:8080/",
          "height": 623
        },
        "id": "ssX3iRd61f0d",
        "outputId": "c3711b68-254d-438a-9e7c-6eb84c12e712"
      },
      "source": [
        "fig,axe = plt.subplots(2,2,figsize=(25,10))\n",
        "sns.scatterplot(data=df_Kmeans,x='Montant initial',y='Abondement mensuel',hue=\"Cluster\",ax=axe[0,0])\n",
        "sns.scatterplot(data=df_Kmeans,x='Montant initial',y='Durée',hue=\"Cluster\",ax=axe[0,1])\n",
        "sns.scatterplot(data=df_Kmeans,x='Patrimoine total',y='Revenus',hue=\"Cluster\",ax=axe[1,0])\n",
        "sns.scatterplot(data=df_Kmeans,x='Montant initial',y='Revenus',hue=\"Cluster\",ax=axe[1,1])"
      ],
      "execution_count": 256,
      "outputs": [
        {
          "output_type": "execute_result",
          "data": {
            "text/plain": [
              "<matplotlib.axes._subplots.AxesSubplot at 0x7faef3200588>"
            ]
          },
          "metadata": {
            "tags": []
          },
          "execution_count": 256
        },
        {
          "output_type": "display_data",
          "data": {
            "image/png": "[encoded data removed]",
            "text/plain": [
              "<Figure size 1800x720 with 4 Axes>"
            ]
          },
          "metadata": {
            "tags": []
          }
        }
      ]
    }
  ]
}